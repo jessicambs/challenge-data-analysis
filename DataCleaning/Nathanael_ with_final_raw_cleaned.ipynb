{
 "cells": [
  {
   "cell_type": "code",
   "execution_count": 15,
   "metadata": {},
   "outputs": [],
   "source": [
    "import pandas as pd\n"
   ]
  },
  {
   "cell_type": "code",
   "execution_count": 16,
   "metadata": {},
   "outputs": [
    {
     "data": {
      "text/html": [
       "<div>\n",
       "<style scoped>\n",
       "    .dataframe tbody tr th:only-of-type {\n",
       "        vertical-align: middle;\n",
       "    }\n",
       "\n",
       "    .dataframe tbody tr th {\n",
       "        vertical-align: top;\n",
       "    }\n",
       "\n",
       "    .dataframe thead th {\n",
       "        text-align: right;\n",
       "    }\n",
       "</style>\n",
       "<table border=\"1\" class=\"dataframe\">\n",
       "  <thead>\n",
       "    <tr style=\"text-align: right;\">\n",
       "      <th></th>\n",
       "      <th>Unnamed: 0</th>\n",
       "      <th>price</th>\n",
       "      <th>number_of_rooms</th>\n",
       "      <th>area</th>\n",
       "      <th>terrace_area</th>\n",
       "      <th>garden_area</th>\n",
       "      <th>surface_of_the_land</th>\n",
       "      <th>surface_area_of_the_plot_of_land</th>\n",
       "      <th>number_of_facades</th>\n",
       "      <th>type_of_property</th>\n",
       "      <th>...</th>\n",
       "      <th>type_of_sale.1</th>\n",
       "      <th>fully_equipped_kitchen.1</th>\n",
       "      <th>furnished</th>\n",
       "      <th>open_fire</th>\n",
       "      <th>terrace</th>\n",
       "      <th>garden</th>\n",
       "      <th>swimming_pool</th>\n",
       "      <th>state_of_the_building</th>\n",
       "      <th>province</th>\n",
       "      <th>region</th>\n",
       "    </tr>\n",
       "  </thead>\n",
       "  <tbody>\n",
       "    <tr>\n",
       "      <th>0</th>\n",
       "      <td>0</td>\n",
       "      <td>319799.0</td>\n",
       "      <td>1.0</td>\n",
       "      <td>NaN</td>\n",
       "      <td>11.0</td>\n",
       "      <td>NaN</td>\n",
       "      <td>NaN</td>\n",
       "      <td>NaN</td>\n",
       "      <td>NaN</td>\n",
       "      <td>apartment</td>\n",
       "      <td>...</td>\n",
       "      <td>regular sale</td>\n",
       "      <td>0</td>\n",
       "      <td>0.0</td>\n",
       "      <td>0</td>\n",
       "      <td>1</td>\n",
       "      <td>0</td>\n",
       "      <td>0</td>\n",
       "      <td>NaN</td>\n",
       "      <td>Antwerp</td>\n",
       "      <td>Vlaams</td>\n",
       "    </tr>\n",
       "    <tr>\n",
       "      <th>1</th>\n",
       "      <td>1</td>\n",
       "      <td>291999.0</td>\n",
       "      <td>1.0</td>\n",
       "      <td>NaN</td>\n",
       "      <td>6.0</td>\n",
       "      <td>NaN</td>\n",
       "      <td>NaN</td>\n",
       "      <td>NaN</td>\n",
       "      <td>NaN</td>\n",
       "      <td>apartment</td>\n",
       "      <td>...</td>\n",
       "      <td>regular sale</td>\n",
       "      <td>0</td>\n",
       "      <td>0.0</td>\n",
       "      <td>0</td>\n",
       "      <td>1</td>\n",
       "      <td>0</td>\n",
       "      <td>0</td>\n",
       "      <td>NaN</td>\n",
       "      <td>Antwerp</td>\n",
       "      <td>Vlaams</td>\n",
       "    </tr>\n",
       "    <tr>\n",
       "      <th>2</th>\n",
       "      <td>2</td>\n",
       "      <td>764999.0</td>\n",
       "      <td>2.0</td>\n",
       "      <td>153.0</td>\n",
       "      <td>62.0</td>\n",
       "      <td>NaN</td>\n",
       "      <td>NaN</td>\n",
       "      <td>NaN</td>\n",
       "      <td>NaN</td>\n",
       "      <td>apartment</td>\n",
       "      <td>...</td>\n",
       "      <td>regular sale</td>\n",
       "      <td>0</td>\n",
       "      <td>0.0</td>\n",
       "      <td>0</td>\n",
       "      <td>1</td>\n",
       "      <td>0</td>\n",
       "      <td>0</td>\n",
       "      <td>NaN</td>\n",
       "      <td>Antwerp</td>\n",
       "      <td>Vlaams</td>\n",
       "    </tr>\n",
       "    <tr>\n",
       "      <th>3</th>\n",
       "      <td>3</td>\n",
       "      <td>660264.0</td>\n",
       "      <td>3.0</td>\n",
       "      <td>NaN</td>\n",
       "      <td>160.0</td>\n",
       "      <td>NaN</td>\n",
       "      <td>NaN</td>\n",
       "      <td>NaN</td>\n",
       "      <td>NaN</td>\n",
       "      <td>apartment</td>\n",
       "      <td>...</td>\n",
       "      <td>regular sale</td>\n",
       "      <td>0</td>\n",
       "      <td>0.0</td>\n",
       "      <td>0</td>\n",
       "      <td>1</td>\n",
       "      <td>0</td>\n",
       "      <td>0</td>\n",
       "      <td>NaN</td>\n",
       "      <td>Antwerp</td>\n",
       "      <td>Vlaams</td>\n",
       "    </tr>\n",
       "    <tr>\n",
       "      <th>4</th>\n",
       "      <td>4</td>\n",
       "      <td>294999.0</td>\n",
       "      <td>2.0</td>\n",
       "      <td>80.0</td>\n",
       "      <td>NaN</td>\n",
       "      <td>NaN</td>\n",
       "      <td>NaN</td>\n",
       "      <td>NaN</td>\n",
       "      <td>NaN</td>\n",
       "      <td>apartment</td>\n",
       "      <td>...</td>\n",
       "      <td>regular sale</td>\n",
       "      <td>0</td>\n",
       "      <td>0.0</td>\n",
       "      <td>0</td>\n",
       "      <td>0</td>\n",
       "      <td>0</td>\n",
       "      <td>0</td>\n",
       "      <td>NaN</td>\n",
       "      <td>Vlaams-Brabant</td>\n",
       "      <td>Vlaams</td>\n",
       "    </tr>\n",
       "  </tbody>\n",
       "</table>\n",
       "<p>5 rows × 24 columns</p>\n",
       "</div>"
      ],
      "text/plain": [
       "   Unnamed: 0     price  number_of_rooms   area  terrace_area  garden_area  \\\n",
       "0           0  319799.0              1.0    NaN          11.0          NaN   \n",
       "1           1  291999.0              1.0    NaN           6.0          NaN   \n",
       "2           2  764999.0              2.0  153.0          62.0          NaN   \n",
       "3           3  660264.0              3.0    NaN         160.0          NaN   \n",
       "4           4  294999.0              2.0   80.0           NaN          NaN   \n",
       "\n",
       "   surface_of_the_land  surface_area_of_the_plot_of_land  number_of_facades  \\\n",
       "0                  NaN                               NaN                NaN   \n",
       "1                  NaN                               NaN                NaN   \n",
       "2                  NaN                               NaN                NaN   \n",
       "3                  NaN                               NaN                NaN   \n",
       "4                  NaN                               NaN                NaN   \n",
       "\n",
       "  type_of_property  ...  type_of_sale.1 fully_equipped_kitchen.1 furnished  \\\n",
       "0        apartment  ...    regular sale                        0       0.0   \n",
       "1        apartment  ...    regular sale                        0       0.0   \n",
       "2        apartment  ...    regular sale                        0       0.0   \n",
       "3        apartment  ...    regular sale                        0       0.0   \n",
       "4        apartment  ...    regular sale                        0       0.0   \n",
       "\n",
       "   open_fire terrace  garden  swimming_pool  state_of_the_building  \\\n",
       "0          0       1       0              0                    NaN   \n",
       "1          0       1       0              0                    NaN   \n",
       "2          0       1       0              0                    NaN   \n",
       "3          0       1       0              0                    NaN   \n",
       "4          0       0       0              0                    NaN   \n",
       "\n",
       "         province  region  \n",
       "0         Antwerp  Vlaams  \n",
       "1         Antwerp  Vlaams  \n",
       "2         Antwerp  Vlaams  \n",
       "3         Antwerp  Vlaams  \n",
       "4  Vlaams-Brabant  Vlaams  \n",
       "\n",
       "[5 rows x 24 columns]"
      ]
     },
     "execution_count": 16,
     "metadata": {},
     "output_type": "execute_result"
    }
   ],
   "source": [
    "datas = pd.read_csv('raw_data_cleaned.csv')\n",
    "datas.head()"
   ]
  },
  {
   "cell_type": "code",
   "execution_count": 17,
   "metadata": {},
   "outputs": [
    {
     "data": {
      "text/html": [
       "<div>\n",
       "<style scoped>\n",
       "    .dataframe tbody tr th:only-of-type {\n",
       "        vertical-align: middle;\n",
       "    }\n",
       "\n",
       "    .dataframe tbody tr th {\n",
       "        vertical-align: top;\n",
       "    }\n",
       "\n",
       "    .dataframe thead th {\n",
       "        text-align: right;\n",
       "    }\n",
       "</style>\n",
       "<table border=\"1\" class=\"dataframe\">\n",
       "  <thead>\n",
       "    <tr style=\"text-align: right;\">\n",
       "      <th></th>\n",
       "      <th>price</th>\n",
       "      <th>number_of_rooms</th>\n",
       "      <th>area</th>\n",
       "      <th>terrace_area</th>\n",
       "      <th>garden_area</th>\n",
       "      <th>surface_of_the_land</th>\n",
       "      <th>surface_area_of_the_plot_of_land</th>\n",
       "      <th>number_of_facades</th>\n",
       "      <th>type_of_property</th>\n",
       "      <th>locality</th>\n",
       "      <th>...</th>\n",
       "      <th>type_of_sale.1</th>\n",
       "      <th>fully_equipped_kitchen.1</th>\n",
       "      <th>furnished</th>\n",
       "      <th>open_fire</th>\n",
       "      <th>terrace</th>\n",
       "      <th>garden</th>\n",
       "      <th>swimming_pool</th>\n",
       "      <th>state_of_the_building</th>\n",
       "      <th>province</th>\n",
       "      <th>region</th>\n",
       "    </tr>\n",
       "  </thead>\n",
       "  <tbody>\n",
       "    <tr>\n",
       "      <th>0</th>\n",
       "      <td>319799.0</td>\n",
       "      <td>1.0</td>\n",
       "      <td>NaN</td>\n",
       "      <td>11.0</td>\n",
       "      <td>NaN</td>\n",
       "      <td>NaN</td>\n",
       "      <td>NaN</td>\n",
       "      <td>NaN</td>\n",
       "      <td>apartment</td>\n",
       "      <td>2970</td>\n",
       "      <td>...</td>\n",
       "      <td>regular sale</td>\n",
       "      <td>0</td>\n",
       "      <td>0.0</td>\n",
       "      <td>0</td>\n",
       "      <td>1</td>\n",
       "      <td>0</td>\n",
       "      <td>0</td>\n",
       "      <td>NaN</td>\n",
       "      <td>Antwerp</td>\n",
       "      <td>Vlaams</td>\n",
       "    </tr>\n",
       "    <tr>\n",
       "      <th>1</th>\n",
       "      <td>291999.0</td>\n",
       "      <td>1.0</td>\n",
       "      <td>NaN</td>\n",
       "      <td>6.0</td>\n",
       "      <td>NaN</td>\n",
       "      <td>NaN</td>\n",
       "      <td>NaN</td>\n",
       "      <td>NaN</td>\n",
       "      <td>apartment</td>\n",
       "      <td>2970</td>\n",
       "      <td>...</td>\n",
       "      <td>regular sale</td>\n",
       "      <td>0</td>\n",
       "      <td>0.0</td>\n",
       "      <td>0</td>\n",
       "      <td>1</td>\n",
       "      <td>0</td>\n",
       "      <td>0</td>\n",
       "      <td>NaN</td>\n",
       "      <td>Antwerp</td>\n",
       "      <td>Vlaams</td>\n",
       "    </tr>\n",
       "    <tr>\n",
       "      <th>2</th>\n",
       "      <td>764999.0</td>\n",
       "      <td>2.0</td>\n",
       "      <td>153.0</td>\n",
       "      <td>62.0</td>\n",
       "      <td>NaN</td>\n",
       "      <td>NaN</td>\n",
       "      <td>NaN</td>\n",
       "      <td>NaN</td>\n",
       "      <td>apartment</td>\n",
       "      <td>2970</td>\n",
       "      <td>...</td>\n",
       "      <td>regular sale</td>\n",
       "      <td>0</td>\n",
       "      <td>0.0</td>\n",
       "      <td>0</td>\n",
       "      <td>1</td>\n",
       "      <td>0</td>\n",
       "      <td>0</td>\n",
       "      <td>NaN</td>\n",
       "      <td>Antwerp</td>\n",
       "      <td>Vlaams</td>\n",
       "    </tr>\n",
       "    <tr>\n",
       "      <th>3</th>\n",
       "      <td>660264.0</td>\n",
       "      <td>3.0</td>\n",
       "      <td>NaN</td>\n",
       "      <td>160.0</td>\n",
       "      <td>NaN</td>\n",
       "      <td>NaN</td>\n",
       "      <td>NaN</td>\n",
       "      <td>NaN</td>\n",
       "      <td>apartment</td>\n",
       "      <td>2970</td>\n",
       "      <td>...</td>\n",
       "      <td>regular sale</td>\n",
       "      <td>0</td>\n",
       "      <td>0.0</td>\n",
       "      <td>0</td>\n",
       "      <td>1</td>\n",
       "      <td>0</td>\n",
       "      <td>0</td>\n",
       "      <td>NaN</td>\n",
       "      <td>Antwerp</td>\n",
       "      <td>Vlaams</td>\n",
       "    </tr>\n",
       "    <tr>\n",
       "      <th>4</th>\n",
       "      <td>294999.0</td>\n",
       "      <td>2.0</td>\n",
       "      <td>80.0</td>\n",
       "      <td>NaN</td>\n",
       "      <td>NaN</td>\n",
       "      <td>NaN</td>\n",
       "      <td>NaN</td>\n",
       "      <td>NaN</td>\n",
       "      <td>apartment</td>\n",
       "      <td>3200</td>\n",
       "      <td>...</td>\n",
       "      <td>regular sale</td>\n",
       "      <td>0</td>\n",
       "      <td>0.0</td>\n",
       "      <td>0</td>\n",
       "      <td>0</td>\n",
       "      <td>0</td>\n",
       "      <td>0</td>\n",
       "      <td>NaN</td>\n",
       "      <td>Vlaams-Brabant</td>\n",
       "      <td>Vlaams</td>\n",
       "    </tr>\n",
       "  </tbody>\n",
       "</table>\n",
       "<p>5 rows × 23 columns</p>\n",
       "</div>"
      ],
      "text/plain": [
       "      price  number_of_rooms   area  terrace_area  garden_area  \\\n",
       "0  319799.0              1.0    NaN          11.0          NaN   \n",
       "1  291999.0              1.0    NaN           6.0          NaN   \n",
       "2  764999.0              2.0  153.0          62.0          NaN   \n",
       "3  660264.0              3.0    NaN         160.0          NaN   \n",
       "4  294999.0              2.0   80.0           NaN          NaN   \n",
       "\n",
       "   surface_of_the_land  surface_area_of_the_plot_of_land  number_of_facades  \\\n",
       "0                  NaN                               NaN                NaN   \n",
       "1                  NaN                               NaN                NaN   \n",
       "2                  NaN                               NaN                NaN   \n",
       "3                  NaN                               NaN                NaN   \n",
       "4                  NaN                               NaN                NaN   \n",
       "\n",
       "  type_of_property  locality  ... type_of_sale.1 fully_equipped_kitchen.1  \\\n",
       "0        apartment      2970  ...   regular sale                        0   \n",
       "1        apartment      2970  ...   regular sale                        0   \n",
       "2        apartment      2970  ...   regular sale                        0   \n",
       "3        apartment      2970  ...   regular sale                        0   \n",
       "4        apartment      3200  ...   regular sale                        0   \n",
       "\n",
       "   furnished open_fire  terrace  garden  swimming_pool  state_of_the_building  \\\n",
       "0        0.0         0        1       0              0                    NaN   \n",
       "1        0.0         0        1       0              0                    NaN   \n",
       "2        0.0         0        1       0              0                    NaN   \n",
       "3        0.0         0        1       0              0                    NaN   \n",
       "4        0.0         0        0       0              0                    NaN   \n",
       "\n",
       "         province  region  \n",
       "0         Antwerp  Vlaams  \n",
       "1         Antwerp  Vlaams  \n",
       "2         Antwerp  Vlaams  \n",
       "3         Antwerp  Vlaams  \n",
       "4  Vlaams-Brabant  Vlaams  \n",
       "\n",
       "[5 rows x 23 columns]"
      ]
     },
     "execution_count": 17,
     "metadata": {},
     "output_type": "execute_result"
    }
   ],
   "source": [
    "datas.drop(columns=['Unnamed: 0'], inplace=True)\n",
    "datas.head()"
   ]
  },
  {
   "cell_type": "code",
   "execution_count": 18,
   "metadata": {},
   "outputs": [
    {
     "name": "stdout",
     "output_type": "stream",
     "text": [
      "<class 'pandas.core.frame.DataFrame'>\n",
      "RangeIndex: 69304 entries, 0 to 69303\n",
      "Data columns (total 23 columns):\n",
      " #   Column                            Non-Null Count  Dtype  \n",
      "---  ------                            --------------  -----  \n",
      " 0   price                             69304 non-null  float64\n",
      " 1   number_of_rooms                   68600 non-null  float64\n",
      " 2   area                              58907 non-null  float64\n",
      " 3   terrace_area                      23111 non-null  float64\n",
      " 4   garden_area                       10862 non-null  float64\n",
      " 5   surface_of_the_land               33970 non-null  float64\n",
      " 6   surface_area_of_the_plot_of_land  33970 non-null  float64\n",
      " 7   number_of_facades                 35696 non-null  float64\n",
      " 8   type_of_property                  68949 non-null  object \n",
      " 9   locality                          69304 non-null  int64  \n",
      " 10  subtype_of_property               14071 non-null  object \n",
      " 11  type_of_sale                      69304 non-null  object \n",
      " 12  fully_equipped_kitchen            69304 non-null  int64  \n",
      " 13  type_of_sale.1                    69304 non-null  object \n",
      " 14  fully_equipped_kitchen.1          69304 non-null  int64  \n",
      " 15  furnished                         49310 non-null  float64\n",
      " 16  open_fire                         69304 non-null  int64  \n",
      " 17  terrace                           69304 non-null  int64  \n",
      " 18  garden                            69304 non-null  int64  \n",
      " 19  swimming_pool                     69304 non-null  int64  \n",
      " 20  state_of_the_building             39402 non-null  object \n",
      " 21  province                          69304 non-null  object \n",
      " 22  region                            69304 non-null  object \n",
      "dtypes: float64(9), int64(7), object(7)\n",
      "memory usage: 12.2+ MB\n"
     ]
    }
   ],
   "source": [
    "datas.info()"
   ]
  },
  {
   "cell_type": "code",
   "execution_count": 19,
   "metadata": {},
   "outputs": [
    {
     "data": {
      "text/html": [
       "<div>\n",
       "<style scoped>\n",
       "    .dataframe tbody tr th:only-of-type {\n",
       "        vertical-align: middle;\n",
       "    }\n",
       "\n",
       "    .dataframe tbody tr th {\n",
       "        vertical-align: top;\n",
       "    }\n",
       "\n",
       "    .dataframe thead th {\n",
       "        text-align: right;\n",
       "    }\n",
       "</style>\n",
       "<table border=\"1\" class=\"dataframe\">\n",
       "  <thead>\n",
       "    <tr style=\"text-align: right;\">\n",
       "      <th></th>\n",
       "      <th>price</th>\n",
       "      <th>number_of_rooms</th>\n",
       "      <th>area</th>\n",
       "      <th>terrace_area</th>\n",
       "      <th>garden_area</th>\n",
       "      <th>surface_of_the_land</th>\n",
       "      <th>surface_area_of_the_plot_of_land</th>\n",
       "      <th>number_of_facades</th>\n",
       "      <th>type_of_property</th>\n",
       "      <th>locality</th>\n",
       "      <th>...</th>\n",
       "      <th>type_of_sale.1</th>\n",
       "      <th>fully_equipped_kitchen.1</th>\n",
       "      <th>furnished</th>\n",
       "      <th>open_fire</th>\n",
       "      <th>terrace</th>\n",
       "      <th>garden</th>\n",
       "      <th>swimming_pool</th>\n",
       "      <th>state_of_the_building</th>\n",
       "      <th>province</th>\n",
       "      <th>region</th>\n",
       "    </tr>\n",
       "  </thead>\n",
       "  <tbody>\n",
       "    <tr>\n",
       "      <th>0</th>\n",
       "      <td>319799.0</td>\n",
       "      <td>1.0</td>\n",
       "      <td>NaN</td>\n",
       "      <td>11.0</td>\n",
       "      <td>NaN</td>\n",
       "      <td>NaN</td>\n",
       "      <td>NaN</td>\n",
       "      <td>NaN</td>\n",
       "      <td>apartment</td>\n",
       "      <td>2970</td>\n",
       "      <td>...</td>\n",
       "      <td>regular sale</td>\n",
       "      <td>0</td>\n",
       "      <td>0.0</td>\n",
       "      <td>0</td>\n",
       "      <td>1</td>\n",
       "      <td>0</td>\n",
       "      <td>0</td>\n",
       "      <td>NaN</td>\n",
       "      <td>Antwerp</td>\n",
       "      <td>Vlaams</td>\n",
       "    </tr>\n",
       "    <tr>\n",
       "      <th>1</th>\n",
       "      <td>291999.0</td>\n",
       "      <td>1.0</td>\n",
       "      <td>NaN</td>\n",
       "      <td>6.0</td>\n",
       "      <td>NaN</td>\n",
       "      <td>NaN</td>\n",
       "      <td>NaN</td>\n",
       "      <td>NaN</td>\n",
       "      <td>apartment</td>\n",
       "      <td>2970</td>\n",
       "      <td>...</td>\n",
       "      <td>regular sale</td>\n",
       "      <td>0</td>\n",
       "      <td>0.0</td>\n",
       "      <td>0</td>\n",
       "      <td>1</td>\n",
       "      <td>0</td>\n",
       "      <td>0</td>\n",
       "      <td>NaN</td>\n",
       "      <td>Antwerp</td>\n",
       "      <td>Vlaams</td>\n",
       "    </tr>\n",
       "    <tr>\n",
       "      <th>2</th>\n",
       "      <td>764999.0</td>\n",
       "      <td>2.0</td>\n",
       "      <td>153.0</td>\n",
       "      <td>62.0</td>\n",
       "      <td>NaN</td>\n",
       "      <td>NaN</td>\n",
       "      <td>NaN</td>\n",
       "      <td>NaN</td>\n",
       "      <td>apartment</td>\n",
       "      <td>2970</td>\n",
       "      <td>...</td>\n",
       "      <td>regular sale</td>\n",
       "      <td>0</td>\n",
       "      <td>0.0</td>\n",
       "      <td>0</td>\n",
       "      <td>1</td>\n",
       "      <td>0</td>\n",
       "      <td>0</td>\n",
       "      <td>NaN</td>\n",
       "      <td>Antwerp</td>\n",
       "      <td>Vlaams</td>\n",
       "    </tr>\n",
       "    <tr>\n",
       "      <th>3</th>\n",
       "      <td>660264.0</td>\n",
       "      <td>3.0</td>\n",
       "      <td>NaN</td>\n",
       "      <td>160.0</td>\n",
       "      <td>NaN</td>\n",
       "      <td>NaN</td>\n",
       "      <td>NaN</td>\n",
       "      <td>NaN</td>\n",
       "      <td>apartment</td>\n",
       "      <td>2970</td>\n",
       "      <td>...</td>\n",
       "      <td>regular sale</td>\n",
       "      <td>0</td>\n",
       "      <td>0.0</td>\n",
       "      <td>0</td>\n",
       "      <td>1</td>\n",
       "      <td>0</td>\n",
       "      <td>0</td>\n",
       "      <td>NaN</td>\n",
       "      <td>Antwerp</td>\n",
       "      <td>Vlaams</td>\n",
       "    </tr>\n",
       "    <tr>\n",
       "      <th>4</th>\n",
       "      <td>294999.0</td>\n",
       "      <td>2.0</td>\n",
       "      <td>80.0</td>\n",
       "      <td>NaN</td>\n",
       "      <td>NaN</td>\n",
       "      <td>NaN</td>\n",
       "      <td>NaN</td>\n",
       "      <td>NaN</td>\n",
       "      <td>apartment</td>\n",
       "      <td>3200</td>\n",
       "      <td>...</td>\n",
       "      <td>regular sale</td>\n",
       "      <td>0</td>\n",
       "      <td>0.0</td>\n",
       "      <td>0</td>\n",
       "      <td>0</td>\n",
       "      <td>0</td>\n",
       "      <td>0</td>\n",
       "      <td>NaN</td>\n",
       "      <td>Vlaams-Brabant</td>\n",
       "      <td>Vlaams</td>\n",
       "    </tr>\n",
       "  </tbody>\n",
       "</table>\n",
       "<p>5 rows × 23 columns</p>\n",
       "</div>"
      ],
      "text/plain": [
       "      price  number_of_rooms   area  terrace_area  garden_area  \\\n",
       "0  319799.0              1.0    NaN          11.0          NaN   \n",
       "1  291999.0              1.0    NaN           6.0          NaN   \n",
       "2  764999.0              2.0  153.0          62.0          NaN   \n",
       "3  660264.0              3.0    NaN         160.0          NaN   \n",
       "4  294999.0              2.0   80.0           NaN          NaN   \n",
       "\n",
       "   surface_of_the_land  surface_area_of_the_plot_of_land  number_of_facades  \\\n",
       "0                  NaN                               NaN                NaN   \n",
       "1                  NaN                               NaN                NaN   \n",
       "2                  NaN                               NaN                NaN   \n",
       "3                  NaN                               NaN                NaN   \n",
       "4                  NaN                               NaN                NaN   \n",
       "\n",
       "  type_of_property  locality  ... type_of_sale.1 fully_equipped_kitchen.1  \\\n",
       "0        apartment      2970  ...   regular sale                        0   \n",
       "1        apartment      2970  ...   regular sale                        0   \n",
       "2        apartment      2970  ...   regular sale                        0   \n",
       "3        apartment      2970  ...   regular sale                        0   \n",
       "4        apartment      3200  ...   regular sale                        0   \n",
       "\n",
       "   furnished open_fire  terrace  garden  swimming_pool  state_of_the_building  \\\n",
       "0        0.0         0        1       0              0                    NaN   \n",
       "1        0.0         0        1       0              0                    NaN   \n",
       "2        0.0         0        1       0              0                    NaN   \n",
       "3        0.0         0        1       0              0                    NaN   \n",
       "4        0.0         0        0       0              0                    NaN   \n",
       "\n",
       "         province  region  \n",
       "0         Antwerp  Vlaams  \n",
       "1         Antwerp  Vlaams  \n",
       "2         Antwerp  Vlaams  \n",
       "3         Antwerp  Vlaams  \n",
       "4  Vlaams-Brabant  Vlaams  \n",
       "\n",
       "[5 rows x 23 columns]"
      ]
     },
     "execution_count": 19,
     "metadata": {},
     "output_type": "execute_result"
    }
   ],
   "source": [
    "datas = datas[~datas['price'].isnull()]\n",
    "datas.reset_index(inplace=True, drop=True)\n",
    "datas.head()"
   ]
  },
  {
   "cell_type": "code",
   "execution_count": 20,
   "metadata": {},
   "outputs": [
    {
     "name": "stdout",
     "output_type": "stream",
     "text": [
      "<class 'pandas.core.frame.DataFrame'>\n",
      "RangeIndex: 69304 entries, 0 to 69303\n",
      "Data columns (total 23 columns):\n",
      " #   Column                            Non-Null Count  Dtype  \n",
      "---  ------                            --------------  -----  \n",
      " 0   price                             69304 non-null  float64\n",
      " 1   number_of_rooms                   68600 non-null  float64\n",
      " 2   area                              58907 non-null  float64\n",
      " 3   terrace_area                      23111 non-null  float64\n",
      " 4   garden_area                       10862 non-null  float64\n",
      " 5   surface_of_the_land               33970 non-null  float64\n",
      " 6   surface_area_of_the_plot_of_land  33970 non-null  float64\n",
      " 7   number_of_facades                 35696 non-null  float64\n",
      " 8   type_of_property                  68949 non-null  object \n",
      " 9   locality                          69304 non-null  int64  \n",
      " 10  subtype_of_property               14071 non-null  object \n",
      " 11  type_of_sale                      69304 non-null  object \n",
      " 12  fully_equipped_kitchen            69304 non-null  int64  \n",
      " 13  type_of_sale.1                    69304 non-null  object \n",
      " 14  fully_equipped_kitchen.1          69304 non-null  int64  \n",
      " 15  furnished                         49310 non-null  float64\n",
      " 16  open_fire                         69304 non-null  int64  \n",
      " 17  terrace                           69304 non-null  int64  \n",
      " 18  garden                            69304 non-null  int64  \n",
      " 19  swimming_pool                     69304 non-null  int64  \n",
      " 20  state_of_the_building             39402 non-null  object \n",
      " 21  province                          69304 non-null  object \n",
      " 22  region                            69304 non-null  object \n",
      "dtypes: float64(9), int64(7), object(7)\n",
      "memory usage: 12.2+ MB\n"
     ]
    }
   ],
   "source": [
    "datas.info()"
   ]
  },
  {
   "cell_type": "code",
   "execution_count": 21,
   "metadata": {},
   "outputs": [
    {
     "data": {
      "text/plain": [
       "price                               0.000000\n",
       "swimming_pool                       0.000000\n",
       "garden                              0.000000\n",
       "terrace                             0.000000\n",
       "open_fire                           0.000000\n",
       "fully_equipped_kitchen.1            0.000000\n",
       "type_of_sale.1                      0.000000\n",
       "fully_equipped_kitchen              0.000000\n",
       "province                            0.000000\n",
       "type_of_sale                        0.000000\n",
       "locality                            0.000000\n",
       "region                              0.000000\n",
       "type_of_property                    0.005122\n",
       "number_of_rooms                     0.010158\n",
       "area                                0.150020\n",
       "furnished                           0.288497\n",
       "state_of_the_building               0.431461\n",
       "number_of_facades                   0.484936\n",
       "surface_area_of_the_plot_of_land    0.509841\n",
       "surface_of_the_land                 0.509841\n",
       "terrace_area                        0.666527\n",
       "subtype_of_property                 0.796967\n",
       "garden_area                         0.843270\n",
       "dtype: float64"
      ]
     },
     "execution_count": 21,
     "metadata": {},
     "output_type": "execute_result"
    }
   ],
   "source": [
    "(datas.isnull().sum()/len(datas)).sort_values()"
   ]
  },
  {
   "cell_type": "code",
   "execution_count": 22,
   "metadata": {},
   "outputs": [
    {
     "data": {
      "text/plain": [
       "price                               0.000000\n",
       "swimming_pool                       0.000000\n",
       "garden                              0.000000\n",
       "terrace                             0.000000\n",
       "open_fire                           0.000000\n",
       "fully_equipped_kitchen.1            0.000000\n",
       "type_of_sale.1                      0.000000\n",
       "fully_equipped_kitchen              0.000000\n",
       "province                            0.000000\n",
       "type_of_sale                        0.000000\n",
       "type_of_property                    0.000000\n",
       "locality                            0.000000\n",
       "region                              0.000000\n",
       "number_of_rooms                     0.003434\n",
       "surface_area_of_the_plot_of_land    0.027387\n",
       "surface_of_the_land                 0.027387\n",
       "area                                0.106242\n",
       "furnished                           0.161203\n",
       "number_of_facades                   0.182919\n",
       "state_of_the_building               0.198257\n",
       "garden_area                         0.376630\n",
       "subtype_of_property                 0.393109\n",
       "terrace_area                        0.395042\n",
       "dtype: float64"
      ]
     },
     "execution_count": 22,
     "metadata": {},
     "output_type": "execute_result"
    }
   ],
   "source": [
    "(datas[datas['type_of_property']=='house'].isnull().sum()/len(datas)).sort_values()"
   ]
  },
  {
   "cell_type": "code",
   "execution_count": 23,
   "metadata": {},
   "outputs": [
    {
     "data": {
      "text/plain": [
       "price                               0.000000\n",
       "swimming_pool                       0.000000\n",
       "garden                              0.000000\n",
       "terrace                             0.000000\n",
       "open_fire                           0.000000\n",
       "fully_equipped_kitchen.1            0.000000\n",
       "type_of_sale.1                      0.000000\n",
       "fully_equipped_kitchen              0.000000\n",
       "province                            0.000000\n",
       "type_of_sale                        0.000000\n",
       "type_of_property                    0.000000\n",
       "locality                            0.000000\n",
       "region                              0.000000\n",
       "number_of_rooms                     0.006421\n",
       "area                                0.042768\n",
       "furnished                           0.127294\n",
       "state_of_the_building               0.229236\n",
       "terrace_area                        0.266998\n",
       "number_of_facades                   0.297010\n",
       "subtype_of_property                 0.399688\n",
       "garden_area                         0.462455\n",
       "surface_area_of_the_plot_of_land    0.480896\n",
       "surface_of_the_land                 0.480896\n",
       "dtype: float64"
      ]
     },
     "execution_count": 23,
     "metadata": {},
     "output_type": "execute_result"
    }
   ],
   "source": [
    "(datas[datas['type_of_property']=='apartment'].isnull().sum()/len(datas)).sort_values()"
   ]
  },
  {
   "cell_type": "code",
   "execution_count": 24,
   "metadata": {},
   "outputs": [
    {
     "data": {
      "text/plain": [
       "type_of_property\n",
       "apartment    34694\n",
       "house        34255\n",
       "dtype: int64"
      ]
     },
     "execution_count": 24,
     "metadata": {},
     "output_type": "execute_result"
    }
   ],
   "source": [
    "datas.groupby('type_of_property').size()"
   ]
  },
  {
   "cell_type": "code",
   "execution_count": 25,
   "metadata": {},
   "outputs": [
    {
     "name": "stdout",
     "output_type": "stream",
     "text": [
      "(69304, 23)\n"
     ]
    },
    {
     "data": {
      "text/plain": [
       "(69304, 23)"
      ]
     },
     "execution_count": 25,
     "metadata": {},
     "output_type": "execute_result"
    }
   ],
   "source": [
    "small_data = datas.drop_duplicates()\n",
    "print(small_data.shape)\n",
    "\n",
    "datas.shape\n"
   ]
  },
  {
   "cell_type": "code",
   "execution_count": 30,
   "metadata": {},
   "outputs": [
    {
     "data": {
      "text/plain": [
       "Index(['price', 'number_of_rooms', 'area', 'terrace_area', 'garden_area',\n",
       "       'surface_of_the_land', 'surface_area_of_the_plot_of_land',\n",
       "       'number_of_facades', 'type_of_property', 'locality',\n",
       "       'subtype_of_property', 'type_of_sale', 'fully_equipped_kitchen',\n",
       "       'type_of_sale.1', 'fully_equipped_kitchen.1', 'furnished', 'open_fire',\n",
       "       'terrace', 'garden', 'swimming_pool', 'state_of_the_building',\n",
       "       'province', 'region'],\n",
       "      dtype='object')"
      ]
     },
     "execution_count": 30,
     "metadata": {},
     "output_type": "execute_result"
    }
   ],
   "source": [
    "datas.columns"
   ]
  },
  {
   "cell_type": "code",
   "execution_count": 28,
   "metadata": {},
   "outputs": [
    {
     "ename": "KeyError",
     "evalue": "'Only a column name can be used for the key in a dtype mappings argument.'",
     "output_type": "error",
     "traceback": [
      "\u001b[0;31m---------------------------------------------------------------------------\u001b[0m",
      "\u001b[0;31mKeyError\u001b[0m                                  Traceback (most recent call last)",
      "\u001b[0;32m<ipython-input-28-713b0be27761>\u001b[0m in \u001b[0;36m<module>\u001b[0;34m\u001b[0m\n\u001b[0;32m----> 1\u001b[0;31m datas=datas.astype({'Locality':'Int64', \n\u001b[0m\u001b[1;32m      2\u001b[0m                   \u001b[0;34m'Type of property'\u001b[0m\u001b[0;34m:\u001b[0m\u001b[0;34m'string'\u001b[0m\u001b[0;34m,\u001b[0m\u001b[0;34m\u001b[0m\u001b[0;34m\u001b[0m\u001b[0m\n\u001b[1;32m      3\u001b[0m                   \u001b[0;34m'Subtype of property'\u001b[0m\u001b[0;34m:\u001b[0m\u001b[0;34m'string'\u001b[0m\u001b[0;34m,\u001b[0m\u001b[0;34m\u001b[0m\u001b[0;34m\u001b[0m\u001b[0m\n\u001b[1;32m      4\u001b[0m                   \u001b[0;34m'Price'\u001b[0m\u001b[0;34m:\u001b[0m\u001b[0;34m'float64'\u001b[0m\u001b[0;34m,\u001b[0m\u001b[0;34m\u001b[0m\u001b[0;34m\u001b[0m\u001b[0m\n\u001b[1;32m      5\u001b[0m                   \u001b[0;34m'Type of sale'\u001b[0m\u001b[0;34m:\u001b[0m\u001b[0;34m'string'\u001b[0m\u001b[0;34m,\u001b[0m\u001b[0;34m\u001b[0m\u001b[0;34m\u001b[0m\u001b[0m\n",
      "\u001b[0;32m~/.local/lib/python3.8/site-packages/pandas/core/generic.py\u001b[0m in \u001b[0;36mastype\u001b[0;34m(self, dtype, copy, errors)\u001b[0m\n\u001b[1;32m   5521\u001b[0m             \u001b[0;32mfor\u001b[0m \u001b[0mcol_name\u001b[0m \u001b[0;32min\u001b[0m \u001b[0mdtype\u001b[0m\u001b[0;34m.\u001b[0m\u001b[0mkeys\u001b[0m\u001b[0;34m(\u001b[0m\u001b[0;34m)\u001b[0m\u001b[0;34m:\u001b[0m\u001b[0;34m\u001b[0m\u001b[0;34m\u001b[0m\u001b[0m\n\u001b[1;32m   5522\u001b[0m                 \u001b[0;32mif\u001b[0m \u001b[0mcol_name\u001b[0m \u001b[0;32mnot\u001b[0m \u001b[0;32min\u001b[0m \u001b[0mself\u001b[0m\u001b[0;34m:\u001b[0m\u001b[0;34m\u001b[0m\u001b[0;34m\u001b[0m\u001b[0m\n\u001b[0;32m-> 5523\u001b[0;31m                     raise KeyError(\n\u001b[0m\u001b[1;32m   5524\u001b[0m                         \u001b[0;34m\"Only a column name can be used for the \"\u001b[0m\u001b[0;34m\u001b[0m\u001b[0;34m\u001b[0m\u001b[0m\n\u001b[1;32m   5525\u001b[0m                         \u001b[0;34m\"key in a dtype mappings argument.\"\u001b[0m\u001b[0;34m\u001b[0m\u001b[0;34m\u001b[0m\u001b[0m\n",
      "\u001b[0;31mKeyError\u001b[0m: 'Only a column name can be used for the key in a dtype mappings argument.'"
     ]
    }
   ],
   "source": [
    "datas=datas.astype({\n",
    "                  'type_of_property':'string',\n",
    "                  'subtype_of_property':'string',\n",
    "                  'price':'float64', \n",
    "                  'type_of_sale':'string',\n",
    "                  'number_of_rooms':'Int64', \n",
    "                  'area':'float64', \n",
    "                  'Fully equipped kitchen':'Int64', \n",
    "                  'Furnished':'Int64',\n",
    "                  'Open fire':'Int64',\n",
    "                  'Terrace':'Int64',\n",
    "                  'Terrace Area':'float64',\n",
    "                  'Garden':'Int64',\n",
    "                  'Garden Area':'float64',\n",
    "                  'Surface of the land':'float64',\n",
    "                  'Surface area of the plot of land':'float64',\n",
    "                  'Number of facades':'Int64',\n",
    "                  'Swimming pool':'Int64',\n",
    "                  'State of the building':'string'\n",
    "                 })\n",
    "datas.dtypes"
   ]
  },
  {
   "cell_type": "code",
   "execution_count": null,
   "metadata": {},
   "outputs": [],
   "source": [
    "datas['Type of property'] = datas['Type of property'].str.strip()\n",
    "datas['Subtype of property'] = datas['Subtype of property'].str.strip()\n",
    "datas['Type of sale'] = datas['Type of sale'].str.strip()\n",
    "datas['State of the building'] = datas['State of the building'].str.strip()\n"
   ]
  },
  {
   "cell_type": "code",
   "execution_count": null,
   "metadata": {},
   "outputs": [],
   "source": [
    "datas['Type of property'].unique()"
   ]
  },
  {
   "cell_type": "code",
   "execution_count": null,
   "metadata": {},
   "outputs": [],
   "source": [
    "datas['Subtype of property'].unique()"
   ]
  },
  {
   "cell_type": "code",
   "execution_count": null,
   "metadata": {},
   "outputs": [],
   "source": [
    "datas['Type of sale'].unique()"
   ]
  },
  {
   "cell_type": "code",
   "execution_count": null,
   "metadata": {},
   "outputs": [],
   "source": [
    "datas['State of the building'].unique()"
   ]
  },
  {
   "cell_type": "code",
   "execution_count": null,
   "metadata": {},
   "outputs": [],
   "source": [
    "datas['Price'].sort_values()"
   ]
  },
  {
   "cell_type": "code",
   "execution_count": null,
   "metadata": {},
   "outputs": [],
   "source": [
    "datas['Number of rooms'].unique()\n",
    " "
   ]
  },
  {
   "cell_type": "code",
   "execution_count": null,
   "metadata": {},
   "outputs": [],
   "source": [
    "datas['Number of rooms'].dropna().sort_values()"
   ]
  },
  {
   "cell_type": "code",
   "execution_count": null,
   "metadata": {},
   "outputs": [],
   "source": [
    "datas.loc[43601,:]"
   ]
  },
  {
   "cell_type": "code",
   "execution_count": null,
   "metadata": {},
   "outputs": [],
   "source": [
    "datas[datas[['Locality', 'Price', 'Type of property', 'Number of rooms', 'Area']].duplicated()]"
   ]
  },
  {
   "cell_type": "code",
   "execution_count": null,
   "metadata": {},
   "outputs": [],
   "source": [
    "datas.loc[73526,:]"
   ]
  },
  {
   "cell_type": "code",
   "execution_count": null,
   "metadata": {},
   "outputs": [],
   "source": [
    "datas[(datas['Locality']==9185) & (datas['Price']==340000) & (datas['Type of property']=='house')\n",
    "      & (datas['Number of rooms']==4) & (datas['Area']==164)]"
   ]
  },
  {
   "cell_type": "code",
   "execution_count": null,
   "metadata": {},
   "outputs": [],
   "source": [
    "value = (datas['Locality'] == datas.loc[0, 'Locality']) | datas['Locality'].isnull()\n",
    "duplicates_datas = []\n",
    "for i in range(20000):\n",
    "    value = (datas['Locality'] == datas.loc[i, 'Locality']) | datas['Locality'].isnull()\n",
    "    for col in datas.columns:\n",
    "        value = value & ((datas[col] == datas.loc[i, col]) | datas[col].isnull())\n",
    "    if i%1000==0:\n",
    "        print(i)\n",
    "    if len(datas[value])>1:\n",
    "        duplicates_datas.append(datas[value])\n",
    "        \n",
    "#logic immo has 19k datas"
   ]
  },
  {
   "cell_type": "code",
   "execution_count": null,
   "metadata": {},
   "outputs": [],
   "source": [
    "len(duplicates_datas)"
   ]
  },
  {
   "cell_type": "code",
   "execution_count": null,
   "metadata": {},
   "outputs": [],
   "source": [
    "duplicates_datas[1300].head()"
   ]
  },
  {
   "cell_type": "code",
   "execution_count": null,
   "metadata": {},
   "outputs": [],
   "source": [
    "print(len(duplicates_datas))\n",
    "duplicates_datas[0].head()\n"
   ]
  },
  {
   "cell_type": "code",
   "execution_count": null,
   "metadata": {},
   "outputs": [],
   "source": [
    "duplicates_datas.sort(key=lambda x:x.index[-1], reverse=True)"
   ]
  },
  {
   "cell_type": "code",
   "execution_count": null,
   "metadata": {},
   "outputs": [],
   "source": [
    "duplicates_datas[3].head()"
   ]
  },
  {
   "cell_type": "markdown",
   "metadata": {},
   "source": [
    "## Data Analysis"
   ]
  },
  {
   "cell_type": "code",
   "execution_count": null,
   "metadata": {},
   "outputs": [],
   "source": [
    "df = pd.read_csv('database.csv')\n",
    "df.head()"
   ]
  },
  {
   "cell_type": "code",
   "execution_count": null,
   "metadata": {},
   "outputs": [],
   "source": [
    "#df.drop(columns=['Unnamed: 0', 'Url', 'Source'], inplace=True)\n",
    "old_col=(df.columns)\n",
    "new_col=[]\n",
    "# rename column in a pythonic way\n",
    "for item in old_col:\n",
    "    item =item.lower()\n",
    "    item= item.replace(' ','_')\n",
    "    new_col.append(item)\n",
    "\n",
    "df.columns=new_col\n",
    "df.drop_duplicates(inplace=True)\n",
    "df = df[~df['price'].isnull()]\n",
    "df.reset_index(inplace=True, drop=True)\n",
    "prices = df.pop('price')\n",
    "df.insert(0, 'price', prices)\n",
    "df.head()"
   ]
  },
  {
   "cell_type": "code",
   "execution_count": null,
   "metadata": {},
   "outputs": [],
   "source": [
    "%matplotlib inline\n",
    "import matplotlib.pyplot as plt\n",
    "import seaborn as sns\n"
   ]
  },
  {
   "cell_type": "code",
   "execution_count": null,
   "metadata": {},
   "outputs": [],
   "source": [
    "f, ax = plt.subplots(figsize=(10, 10))\n",
    "ax = sns.heatmap(df.corr(), annot=True)\n",
    "plt.show()"
   ]
  },
  {
   "cell_type": "code",
   "execution_count": null,
   "metadata": {},
   "outputs": [],
   "source": [
    "fig, (ax1, ax2) = plt.subplots(1,2, figsize=(20, 10))\n",
    "sns.heatmap(df[df['type_of_property']=='apartment'].corr(), ax=ax1)\n",
    "sns.heatmap(df[df['type_of_property']=='house'].corr(), ax=ax2)\n",
    "plt.show()"
   ]
  },
  {
   "cell_type": "code",
   "execution_count": null,
   "metadata": {},
   "outputs": [],
   "source": [
    "df.corr()['price'].sort_values(ascending=False)"
   ]
  },
  {
   "cell_type": "code",
   "execution_count": null,
   "metadata": {},
   "outputs": [],
   "source": [
    "df[df['type_of_property']=='apartment'].corr()['price'].sort_values(ascending=False)"
   ]
  },
  {
   "cell_type": "code",
   "execution_count": null,
   "metadata": {
    "scrolled": true
   },
   "outputs": [],
   "source": [
    "df[df['type_of_property']=='house'].corr()['price'].sort_values(ascending=False)"
   ]
  },
  {
   "cell_type": "code",
   "execution_count": null,
   "metadata": {},
   "outputs": [],
   "source": [
    "from scipy.stats import pearsonr\n",
    "df_corr = pd.DataFrame(columns=['corr', 'p-value'])\n",
    "for i in range(len(df.columns)):\n",
    "    col = df.columns[i]\n",
    "    if i==0 or df[col].dtypes != 'float64':\n",
    "        continue\n",
    "    df_col = df[['price', col]].dropna()\n",
    "    df_corr.loc[col]=(pearsonr(df_col['price'], df_col[col]))\n",
    "df_corr.sort_values(by='corr', ascending=False)"
   ]
  },
  {
   "cell_type": "code",
   "execution_count": null,
   "metadata": {},
   "outputs": [],
   "source": [
    "plt.scatter(df['number_of_rooms'], df['price'])\n",
    "plt.show()"
   ]
  },
  {
   "cell_type": "code",
   "execution_count": null,
   "metadata": {},
   "outputs": [],
   "source": [
    "plt.scatter(df[df['number_of_rooms']<10]['number_of_rooms'], df[df['number_of_rooms']<10]['price'])\n"
   ]
  },
  {
   "cell_type": "code",
   "execution_count": null,
   "metadata": {},
   "outputs": [],
   "source": [
    "df_house = df[df['type_of_property']=='house']\n",
    "df_corr = pd.DataFrame(columns=['corr', 'p-value'])\n",
    "for i in range(len(df.columns)):\n",
    "    col = df.columns[i]\n",
    "    if i==0 or df_house[col].dtypes != 'float64':\n",
    "        continue\n",
    "    df_col = df_house[['price', col]].dropna()\n",
    "    df_corr.loc[col]=(pearsonr(df_col['price'], df_col[col]))\n",
    "df_corr.sort_values(by='corr', ascending=False)"
   ]
  },
  {
   "cell_type": "code",
   "execution_count": null,
   "metadata": {},
   "outputs": [],
   "source": [
    "plt.scatter(df_house['area'], df_house['price'])\n"
   ]
  },
  {
   "cell_type": "code",
   "execution_count": null,
   "metadata": {},
   "outputs": [],
   "source": [
    "df_house_small = df_house[df_house['area']<2500]\n",
    "plt.scatter(df_house_small['area'], df_house_small['price'])\n"
   ]
  },
  {
   "cell_type": "code",
   "execution_count": null,
   "metadata": {
    "scrolled": true
   },
   "outputs": [],
   "source": [
    "df_apartment = df[df['type_of_property']=='apartment']\n",
    "print(df_apartment['area'].isnull().sum()/len(df_apartment['area']))\n",
    "df_corr = pd.DataFrame(columns=['corr', 'p-value'])\n",
    "for i in range(len(df.columns)):\n",
    "    col = df.columns[i]\n",
    "    if i==0 or df_apartment[col].dtypes != 'float64':\n",
    "        continue\n",
    "    df_col = df_apartment[['price', col]].dropna()\n",
    "    df_corr.loc[col]=(pearsonr(df_col['price'], df_col[col]))\n",
    "df_corr.sort_values(by='corr', ascending=False)"
   ]
  },
  {
   "cell_type": "code",
   "execution_count": null,
   "metadata": {},
   "outputs": [],
   "source": [
    "from scipy.stats import spearmanr\n",
    "df_corr = pd.DataFrame(columns=['spearmanr', 'p-value'])\n",
    "for i in range(len(df.columns)):\n",
    "    col = df.columns[i]\n",
    "    if i==0 or df_house[col].dtypes != 'float64':\n",
    "        continue\n",
    "    df_col = df_house[['price', col]].dropna()\n",
    "    df_corr.loc[col]=(spearmanr(df_col['price'], df_col[col]))\n",
    "df_corr.sort_values(by='spearmanr', ascending=False)"
   ]
  },
  {
   "cell_type": "markdown",
   "metadata": {},
   "source": [
    "# values by municipalities and region"
   ]
  },
  {
   "cell_type": "code",
   "execution_count": null,
   "metadata": {},
   "outputs": [],
   "source": [
    "df_cities = pd.read_csv('/home/nathanael/Documents/BeCode/Projects/Data_Analysis/challenge-data-analysis/DataCleaning/post_codes.csv', sep=';')\n",
    "print(df_cities.shape)\n",
    "df_cities.head()"
   ]
  },
  {
   "cell_type": "code",
   "execution_count": null,
   "metadata": {},
   "outputs": [],
   "source": [
    "province = {'province' : ['Flandre-Occidentale', 'Brabant Flamand', 'Namur', 'Hainaut',\n",
    "       'Luxembourg', 'Flandre-Orientale', 'Liège', 'Limbourg',\n",
    "       'Brabant Wallon', np.nan, 'Anvers', 'Bruxelles (19 communes)'],\n",
    "           'region' : ['Flandre', 'Flandre', 'Wallonie', 'Wallonie', 'Wallonie', 'Flandre', 'Wallonie', 'Flandre',\n",
    "                       'Wallonie', np.nan, 'Flandre', 'Bruxelles'\n",
    "                      ]}\n",
    "df_province = pd.DataFrame(province)\n",
    "df_province"
   ]
  },
  {
   "cell_type": "code",
   "execution_count": null,
   "metadata": {},
   "outputs": [],
   "source": [
    "df_cities = df_cities.merge(df_province, how= 'left', left_on='Province', right_on='province')\n",
    "df_cities.head()"
   ]
  },
  {
   "cell_type": "code",
   "execution_count": null,
   "metadata": {},
   "outputs": [],
   "source": [
    "df_with_region = df.merge(df_cities[['Code postal', 'region']], how='left', left_on='locality', right_on='Code postal')\n",
    "df_with_region.drop_duplicates(inplace=True)\n",
    "df_with_region.head()"
   ]
  },
  {
   "cell_type": "code",
   "execution_count": null,
   "metadata": {},
   "outputs": [],
   "source": [
    "df_with_region = df_with_region[['price', 'locality', 'region', 'type_of_property']]\n",
    "df_with_region['price_per_m_square'] = df['price']/df['area']\n",
    "df_with_region['area'] = df['area']\n",
    "df_with_region.head()"
   ]
  },
  {
   "cell_type": "code",
   "execution_count": null,
   "metadata": {},
   "outputs": [],
   "source": [
    "df_with_region.groupby('region').agg(['mean','median'])[['price', 'price_per_m_square', 'area']]"
   ]
  },
  {
   "cell_type": "code",
   "execution_count": null,
   "metadata": {},
   "outputs": [],
   "source": [
    "df_with_region.groupby(['type_of_property','region']).agg(['mean','median'])[['price', 'price_per_m_square', 'area']]"
   ]
  },
  {
   "cell_type": "code",
   "execution_count": null,
   "metadata": {},
   "outputs": [],
   "source": [
    "df_loc = df_with_region.groupby('locality').agg(['mean','median', 'size'])\n",
    "df_loc = df_loc['price']\n",
    "df_loc[df_loc['size']>2].sort_values(by= 'mean', ascending=False)\n",
    "                                            "
   ]
  },
  {
   "cell_type": "code",
   "execution_count": null,
   "metadata": {},
   "outputs": [],
   "source": [
    "df_loc = df_with_region.groupby('locality').agg(['mean','median', 'size'])\n",
    "df_loc[df_loc['price_per_m_square']['size']>2].sort_values(by= ('price_per_m_square','mean'), ascending=False)"
   ]
  },
  {
   "cell_type": "code",
   "execution_count": null,
   "metadata": {},
   "outputs": [],
   "source": [
    "df_with_province = df.merge(df_cities[['Code postal', 'province']], how='left', left_on='locality', right_on='Code postal')\n",
    "df_with_province.drop_duplicates(inplace=True)\n",
    "df_with_province = df_with_province[['price', 'locality', 'province']]\n",
    "df_with_province.head()"
   ]
  },
  {
   "cell_type": "code",
   "execution_count": null,
   "metadata": {},
   "outputs": [],
   "source": [
    "df_with_province.groupby('province').agg(['mean','median'])['price'].sort_values(by='mean', ascending=False)"
   ]
  },
  {
   "cell_type": "code",
   "execution_count": null,
   "metadata": {},
   "outputs": [],
   "source": [
    "df_with_province = df.merge(df_cities[['Code postal', 'province']], how='left', left_on='locality', right_on='Code postal')\n",
    "df_with_province.drop_duplicates(inplace=True)\n",
    "df_with_province = df_with_province[['price', 'locality', 'province', 'type_of_property']]\n",
    "df_with_province.head()"
   ]
  },
  {
   "cell_type": "code",
   "execution_count": null,
   "metadata": {},
   "outputs": [],
   "source": [
    "df_with_province.groupby(['type_of_property', 'province']).agg(['mean','std', 'median'])['price'].sort_values(by='mean', ascending=False)"
   ]
  },
  {
   "cell_type": "code",
   "execution_count": null,
   "metadata": {},
   "outputs": [],
   "source": [
    "df_supp = df\n",
    "df_supp['area_inv'] = 1/df['area']\n",
    "df_supp.corr()['price']"
   ]
  },
  {
   "cell_type": "code",
   "execution_count": null,
   "metadata": {},
   "outputs": [],
   "source": [
    "df_with_province.groupby(['type_of_property', 'province']).describe()['price'].sort_values(by='mean', ascending=False)"
   ]
  },
  {
   "cell_type": "code",
   "execution_count": null,
   "metadata": {},
   "outputs": [],
   "source": [
    "df.groupby(['type_of_property', 'locality']).size().mean()"
   ]
  },
  {
   "cell_type": "code",
   "execution_count": null,
   "metadata": {},
   "outputs": [],
   "source": [
    "df_with_province.groupby(['type_of_property', 'province']).size().mean()"
   ]
  },
  {
   "cell_type": "code",
   "execution_count": null,
   "metadata": {},
   "outputs": [],
   "source": []
  }
 ],
 "metadata": {
  "kernelspec": {
   "display_name": "Python 3",
   "language": "python",
   "name": "python3"
  },
  "language_info": {
   "codemirror_mode": {
    "name": "ipython",
    "version": 3
   },
   "file_extension": ".py",
   "mimetype": "text/x-python",
   "name": "python",
   "nbconvert_exporter": "python",
   "pygments_lexer": "ipython3",
   "version": "3.8.5"
  }
 },
 "nbformat": 4,
 "nbformat_minor": 4
}
