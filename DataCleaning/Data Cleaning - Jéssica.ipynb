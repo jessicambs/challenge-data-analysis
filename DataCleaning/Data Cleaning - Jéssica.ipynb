{
 "cells": [
  {
   "cell_type": "markdown",
   "id": "c8ee4417",
   "metadata": {},
   "source": [
    "**Step 1 : Data Cleaning**\n",
    "\n",
    "You have collected your data! So it's time to do a cleaning on it. A cleaned dataset is a dataset that doesn't contain any duplicates, is blank spaces or error-free. The rest of the analysis can be discarded if you neglect this step!\n",
    "\n",
    "    No duplicates\n",
    "    No blank spaces (ex: \" I love python \" => \"I love python\")\n",
    "    No errors\n",
    "    No empty values\n"
   ]
  },
  {
   "cell_type": "code",
   "execution_count": 37,
   "id": "27165260",
   "metadata": {},
   "outputs": [
    {
     "data": {
      "text/plain": [
       "'/home/jessica/BecodeContent/immoDataAnalysis/challenge-data-analysis/DataCleaning'"
      ]
     },
     "execution_count": 37,
     "metadata": {},
     "output_type": "execute_result"
    }
   ],
   "source": [
    "pwd"
   ]
  },
  {
   "cell_type": "code",
   "execution_count": 10,
   "id": "f83231b1",
   "metadata": {},
   "outputs": [],
   "source": [
    "# import packages\n",
    "import pandas as pd\n",
    "import numpy as np\n",
    "import seaborn as sns\n",
    "\n",
    "import matplotlib.pyplot as plt\n",
    "import matplotlib.mlab as mlab\n",
    "import matplotlib\n",
    "plt.style.use('ggplot')\n",
    "from matplotlib.pyplot import figure\n",
    "\n",
    "%matplotlib inline\n",
    "matplotlib.rcParams['figure.figsize'] = (12,8)\n",
    "\n",
    "pd.options.mode.chained_assignment = None\n"
   ]
  },
  {
   "cell_type": "markdown",
   "id": "e4ab6e51",
   "metadata": {},
   "source": [
    "## No blank spaces (ex: \" I love python \" => \"I love python\")"
   ]
  },
  {
   "cell_type": "code",
   "execution_count": 2,
   "id": "da4d1b73",
   "metadata": {},
   "outputs": [],
   "source": [
    "# modifying read_csv lines to also use skipinitialspace=True\n",
    "df = pd.read_csv('https://raw.githubusercontent.com/JulienAlardot/challenge-collecting-data/main/Data/database.csv', sep=',\\s+', delimiter=',', encoding=\"utf-8\", skipinitialspace=True)"
   ]
  },
  {
   "cell_type": "code",
   "execution_count": 3,
   "id": "d127efc0",
   "metadata": {},
   "outputs": [
    {
     "data": {
      "text/html": [
       "<div>\n",
       "<style scoped>\n",
       "    .dataframe tbody tr th:only-of-type {\n",
       "        vertical-align: middle;\n",
       "    }\n",
       "\n",
       "    .dataframe tbody tr th {\n",
       "        vertical-align: top;\n",
       "    }\n",
       "\n",
       "    .dataframe thead th {\n",
       "        text-align: right;\n",
       "    }\n",
       "</style>\n",
       "<table border=\"1\" class=\"dataframe\">\n",
       "  <thead>\n",
       "    <tr style=\"text-align: right;\">\n",
       "      <th></th>\n",
       "      <th>Unnamed: 0</th>\n",
       "      <th>Url</th>\n",
       "      <th>Source</th>\n",
       "      <th>Locality</th>\n",
       "      <th>Type of property</th>\n",
       "      <th>Subtype of property</th>\n",
       "      <th>Price</th>\n",
       "      <th>Type of sale</th>\n",
       "      <th>Number of rooms</th>\n",
       "      <th>Area</th>\n",
       "      <th>...</th>\n",
       "      <th>Open fire</th>\n",
       "      <th>Terrace</th>\n",
       "      <th>Terrace Area</th>\n",
       "      <th>Garden</th>\n",
       "      <th>Garden Area</th>\n",
       "      <th>Surface of the land</th>\n",
       "      <th>Surface area of the plot of land</th>\n",
       "      <th>Number of facades</th>\n",
       "      <th>Swimming pool</th>\n",
       "      <th>State of the building</th>\n",
       "    </tr>\n",
       "  </thead>\n",
       "  <tbody>\n",
       "    <tr>\n",
       "      <th>73542</th>\n",
       "      <td>73542</td>\n",
       "      <td>https://www.immoweb.be/fr/annonce/maison/a-ven...</td>\n",
       "      <td>immoweb</td>\n",
       "      <td>8770</td>\n",
       "      <td>house</td>\n",
       "      <td>NaN</td>\n",
       "      <td>356000.0</td>\n",
       "      <td>regular sale</td>\n",
       "      <td>4.0</td>\n",
       "      <td>NaN</td>\n",
       "      <td>...</td>\n",
       "      <td>0.0</td>\n",
       "      <td>0.0</td>\n",
       "      <td>NaN</td>\n",
       "      <td>1.0</td>\n",
       "      <td>NaN</td>\n",
       "      <td>285.0</td>\n",
       "      <td>285.0</td>\n",
       "      <td>NaN</td>\n",
       "      <td>0.0</td>\n",
       "      <td>NaN</td>\n",
       "    </tr>\n",
       "    <tr>\n",
       "      <th>73543</th>\n",
       "      <td>73543</td>\n",
       "      <td>https://www.immoweb.be/fr/annonce/maison/a-ven...</td>\n",
       "      <td>immoweb</td>\n",
       "      <td>6000</td>\n",
       "      <td>house</td>\n",
       "      <td>NaN</td>\n",
       "      <td>175000.0</td>\n",
       "      <td>regular sale</td>\n",
       "      <td>4.0</td>\n",
       "      <td>205.0</td>\n",
       "      <td>...</td>\n",
       "      <td>0.0</td>\n",
       "      <td>1.0</td>\n",
       "      <td>23.0</td>\n",
       "      <td>1.0</td>\n",
       "      <td>600.0</td>\n",
       "      <td>800.0</td>\n",
       "      <td>800.0</td>\n",
       "      <td>2.0</td>\n",
       "      <td>0.0</td>\n",
       "      <td>NaN</td>\n",
       "    </tr>\n",
       "    <tr>\n",
       "      <th>73544</th>\n",
       "      <td>73544</td>\n",
       "      <td>https://www.immoweb.be/fr/annonce/maison/a-ven...</td>\n",
       "      <td>immoweb</td>\n",
       "      <td>6000</td>\n",
       "      <td>house</td>\n",
       "      <td>NaN</td>\n",
       "      <td>185000.0</td>\n",
       "      <td>regular sale</td>\n",
       "      <td>4.0</td>\n",
       "      <td>200.0</td>\n",
       "      <td>...</td>\n",
       "      <td>0.0</td>\n",
       "      <td>1.0</td>\n",
       "      <td>23.0</td>\n",
       "      <td>1.0</td>\n",
       "      <td>800.0</td>\n",
       "      <td>1000.0</td>\n",
       "      <td>1000.0</td>\n",
       "      <td>3.0</td>\n",
       "      <td>0.0</td>\n",
       "      <td>NaN</td>\n",
       "    </tr>\n",
       "    <tr>\n",
       "      <th>73545</th>\n",
       "      <td>73545</td>\n",
       "      <td>https://www.immoweb.be/fr/annonce/maison/a-ven...</td>\n",
       "      <td>immoweb</td>\n",
       "      <td>1480</td>\n",
       "      <td>house</td>\n",
       "      <td>villa</td>\n",
       "      <td>310442.0</td>\n",
       "      <td>regular sale</td>\n",
       "      <td>3.0</td>\n",
       "      <td>NaN</td>\n",
       "      <td>...</td>\n",
       "      <td>0.0</td>\n",
       "      <td>0.0</td>\n",
       "      <td>NaN</td>\n",
       "      <td>0.0</td>\n",
       "      <td>NaN</td>\n",
       "      <td>465.0</td>\n",
       "      <td>465.0</td>\n",
       "      <td>4.0</td>\n",
       "      <td>0.0</td>\n",
       "      <td>NaN</td>\n",
       "    </tr>\n",
       "    <tr>\n",
       "      <th>73546</th>\n",
       "      <td>73546</td>\n",
       "      <td>https://www.immoweb.be/fr/annonce/maison/a-ven...</td>\n",
       "      <td>immoweb</td>\n",
       "      <td>1480</td>\n",
       "      <td>house</td>\n",
       "      <td>villa</td>\n",
       "      <td>331948.0</td>\n",
       "      <td>regular sale</td>\n",
       "      <td>3.0</td>\n",
       "      <td>NaN</td>\n",
       "      <td>...</td>\n",
       "      <td>0.0</td>\n",
       "      <td>0.0</td>\n",
       "      <td>NaN</td>\n",
       "      <td>0.0</td>\n",
       "      <td>NaN</td>\n",
       "      <td>744.0</td>\n",
       "      <td>744.0</td>\n",
       "      <td>4.0</td>\n",
       "      <td>0.0</td>\n",
       "      <td>NaN</td>\n",
       "    </tr>\n",
       "  </tbody>\n",
       "</table>\n",
       "<p>5 rows × 22 columns</p>\n",
       "</div>"
      ],
      "text/plain": [
       "       Unnamed: 0                                                Url   Source  \\\n",
       "73542       73542  https://www.immoweb.be/fr/annonce/maison/a-ven...  immoweb   \n",
       "73543       73543  https://www.immoweb.be/fr/annonce/maison/a-ven...  immoweb   \n",
       "73544       73544  https://www.immoweb.be/fr/annonce/maison/a-ven...  immoweb   \n",
       "73545       73545  https://www.immoweb.be/fr/annonce/maison/a-ven...  immoweb   \n",
       "73546       73546  https://www.immoweb.be/fr/annonce/maison/a-ven...  immoweb   \n",
       "\n",
       "       Locality Type of property Subtype of property     Price  Type of sale  \\\n",
       "73542      8770            house                 NaN  356000.0  regular sale   \n",
       "73543      6000            house                 NaN  175000.0  regular sale   \n",
       "73544      6000            house                 NaN  185000.0  regular sale   \n",
       "73545      1480            house               villa  310442.0  regular sale   \n",
       "73546      1480            house               villa  331948.0  regular sale   \n",
       "\n",
       "       Number of rooms   Area  ...  Open fire  Terrace  Terrace Area  Garden  \\\n",
       "73542              4.0    NaN  ...        0.0      0.0           NaN     1.0   \n",
       "73543              4.0  205.0  ...        0.0      1.0          23.0     1.0   \n",
       "73544              4.0  200.0  ...        0.0      1.0          23.0     1.0   \n",
       "73545              3.0    NaN  ...        0.0      0.0           NaN     0.0   \n",
       "73546              3.0    NaN  ...        0.0      0.0           NaN     0.0   \n",
       "\n",
       "       Garden Area  Surface of the land  Surface area of the plot of land  \\\n",
       "73542          NaN                285.0                             285.0   \n",
       "73543        600.0                800.0                             800.0   \n",
       "73544        800.0               1000.0                            1000.0   \n",
       "73545          NaN                465.0                             465.0   \n",
       "73546          NaN                744.0                             744.0   \n",
       "\n",
       "       Number of facades  Swimming pool  State of the building  \n",
       "73542                NaN            0.0                    NaN  \n",
       "73543                2.0            0.0                    NaN  \n",
       "73544                3.0            0.0                    NaN  \n",
       "73545                4.0            0.0                    NaN  \n",
       "73546                4.0            0.0                    NaN  \n",
       "\n",
       "[5 rows x 22 columns]"
      ]
     },
     "execution_count": 3,
     "metadata": {},
     "output_type": "execute_result"
    }
   ],
   "source": [
    "df.tail()"
   ]
  },
  {
   "cell_type": "code",
   "execution_count": 4,
   "id": "083d1bce",
   "metadata": {},
   "outputs": [],
   "source": [
    "#deleting Unnamed column\n",
    "df.drop(\"Unnamed: 0\", inplace=True, axis=1)"
   ]
  },
  {
   "cell_type": "code",
   "execution_count": 5,
   "id": "d4ce32ff",
   "metadata": {},
   "outputs": [
    {
     "data": {
      "text/html": [
       "<div>\n",
       "<style scoped>\n",
       "    .dataframe tbody tr th:only-of-type {\n",
       "        vertical-align: middle;\n",
       "    }\n",
       "\n",
       "    .dataframe tbody tr th {\n",
       "        vertical-align: top;\n",
       "    }\n",
       "\n",
       "    .dataframe thead th {\n",
       "        text-align: right;\n",
       "    }\n",
       "</style>\n",
       "<table border=\"1\" class=\"dataframe\">\n",
       "  <thead>\n",
       "    <tr style=\"text-align: right;\">\n",
       "      <th></th>\n",
       "      <th>Url</th>\n",
       "      <th>Source</th>\n",
       "      <th>Locality</th>\n",
       "      <th>Type of property</th>\n",
       "      <th>Subtype of property</th>\n",
       "      <th>Price</th>\n",
       "      <th>Type of sale</th>\n",
       "      <th>Number of rooms</th>\n",
       "      <th>Area</th>\n",
       "      <th>Fully equipped kitchen</th>\n",
       "      <th>...</th>\n",
       "      <th>Open fire</th>\n",
       "      <th>Terrace</th>\n",
       "      <th>Terrace Area</th>\n",
       "      <th>Garden</th>\n",
       "      <th>Garden Area</th>\n",
       "      <th>Surface of the land</th>\n",
       "      <th>Surface area of the plot of land</th>\n",
       "      <th>Number of facades</th>\n",
       "      <th>Swimming pool</th>\n",
       "      <th>State of the building</th>\n",
       "    </tr>\n",
       "  </thead>\n",
       "  <tbody>\n",
       "    <tr>\n",
       "      <th>0</th>\n",
       "      <td>https://www.logic-immo.be/fr/vente/appartement...</td>\n",
       "      <td>logic-immo.be</td>\n",
       "      <td>2970</td>\n",
       "      <td>apartment</td>\n",
       "      <td>NaN</td>\n",
       "      <td>319799.0</td>\n",
       "      <td>regular sale</td>\n",
       "      <td>1.0</td>\n",
       "      <td>NaN</td>\n",
       "      <td>0.0</td>\n",
       "      <td>...</td>\n",
       "      <td>0.0</td>\n",
       "      <td>1.0</td>\n",
       "      <td>11.0</td>\n",
       "      <td>0.0</td>\n",
       "      <td>NaN</td>\n",
       "      <td>NaN</td>\n",
       "      <td>NaN</td>\n",
       "      <td>NaN</td>\n",
       "      <td>0.0</td>\n",
       "      <td>NaN</td>\n",
       "    </tr>\n",
       "    <tr>\n",
       "      <th>1</th>\n",
       "      <td>https://www.logic-immo.be/fr/vente/appartement...</td>\n",
       "      <td>logic-immo.be</td>\n",
       "      <td>2970</td>\n",
       "      <td>apartment</td>\n",
       "      <td>NaN</td>\n",
       "      <td>291999.0</td>\n",
       "      <td>regular sale</td>\n",
       "      <td>1.0</td>\n",
       "      <td>NaN</td>\n",
       "      <td>0.0</td>\n",
       "      <td>...</td>\n",
       "      <td>0.0</td>\n",
       "      <td>1.0</td>\n",
       "      <td>6.0</td>\n",
       "      <td>0.0</td>\n",
       "      <td>NaN</td>\n",
       "      <td>NaN</td>\n",
       "      <td>NaN</td>\n",
       "      <td>NaN</td>\n",
       "      <td>0.0</td>\n",
       "      <td>NaN</td>\n",
       "    </tr>\n",
       "    <tr>\n",
       "      <th>2</th>\n",
       "      <td>https://www.logic-immo.be/fr/vente/appartement...</td>\n",
       "      <td>logic-immo.be</td>\n",
       "      <td>2970</td>\n",
       "      <td>apartment</td>\n",
       "      <td>NaN</td>\n",
       "      <td>764999.0</td>\n",
       "      <td>regular sale</td>\n",
       "      <td>2.0</td>\n",
       "      <td>153.0</td>\n",
       "      <td>0.0</td>\n",
       "      <td>...</td>\n",
       "      <td>0.0</td>\n",
       "      <td>1.0</td>\n",
       "      <td>62.0</td>\n",
       "      <td>0.0</td>\n",
       "      <td>NaN</td>\n",
       "      <td>NaN</td>\n",
       "      <td>NaN</td>\n",
       "      <td>NaN</td>\n",
       "      <td>0.0</td>\n",
       "      <td>NaN</td>\n",
       "    </tr>\n",
       "    <tr>\n",
       "      <th>3</th>\n",
       "      <td>https://www.logic-immo.be/fr/vente/appartement...</td>\n",
       "      <td>logic-immo.be</td>\n",
       "      <td>2970</td>\n",
       "      <td>apartment</td>\n",
       "      <td>NaN</td>\n",
       "      <td>660264.0</td>\n",
       "      <td>regular sale</td>\n",
       "      <td>3.0</td>\n",
       "      <td>NaN</td>\n",
       "      <td>0.0</td>\n",
       "      <td>...</td>\n",
       "      <td>0.0</td>\n",
       "      <td>1.0</td>\n",
       "      <td>160.0</td>\n",
       "      <td>0.0</td>\n",
       "      <td>NaN</td>\n",
       "      <td>NaN</td>\n",
       "      <td>NaN</td>\n",
       "      <td>NaN</td>\n",
       "      <td>0.0</td>\n",
       "      <td>NaN</td>\n",
       "    </tr>\n",
       "    <tr>\n",
       "      <th>4</th>\n",
       "      <td>https://www.logic-immo.be/fr/vente/appartement...</td>\n",
       "      <td>logic-immo.be</td>\n",
       "      <td>3200</td>\n",
       "      <td>apartment</td>\n",
       "      <td>NaN</td>\n",
       "      <td>294999.0</td>\n",
       "      <td>regular sale</td>\n",
       "      <td>2.0</td>\n",
       "      <td>80.0</td>\n",
       "      <td>0.0</td>\n",
       "      <td>...</td>\n",
       "      <td>0.0</td>\n",
       "      <td>0.0</td>\n",
       "      <td>NaN</td>\n",
       "      <td>0.0</td>\n",
       "      <td>NaN</td>\n",
       "      <td>NaN</td>\n",
       "      <td>NaN</td>\n",
       "      <td>NaN</td>\n",
       "      <td>0.0</td>\n",
       "      <td>NaN</td>\n",
       "    </tr>\n",
       "  </tbody>\n",
       "</table>\n",
       "<p>5 rows × 21 columns</p>\n",
       "</div>"
      ],
      "text/plain": [
       "                                                 Url         Source  Locality  \\\n",
       "0  https://www.logic-immo.be/fr/vente/appartement...  logic-immo.be      2970   \n",
       "1  https://www.logic-immo.be/fr/vente/appartement...  logic-immo.be      2970   \n",
       "2  https://www.logic-immo.be/fr/vente/appartement...  logic-immo.be      2970   \n",
       "3  https://www.logic-immo.be/fr/vente/appartement...  logic-immo.be      2970   \n",
       "4  https://www.logic-immo.be/fr/vente/appartement...  logic-immo.be      3200   \n",
       "\n",
       "  Type of property Subtype of property     Price  Type of sale  \\\n",
       "0        apartment                 NaN  319799.0  regular sale   \n",
       "1        apartment                 NaN  291999.0  regular sale   \n",
       "2        apartment                 NaN  764999.0  regular sale   \n",
       "3        apartment                 NaN  660264.0  regular sale   \n",
       "4        apartment                 NaN  294999.0  regular sale   \n",
       "\n",
       "   Number of rooms   Area  Fully equipped kitchen  ...  Open fire  Terrace  \\\n",
       "0              1.0    NaN                     0.0  ...        0.0      1.0   \n",
       "1              1.0    NaN                     0.0  ...        0.0      1.0   \n",
       "2              2.0  153.0                     0.0  ...        0.0      1.0   \n",
       "3              3.0    NaN                     0.0  ...        0.0      1.0   \n",
       "4              2.0   80.0                     0.0  ...        0.0      0.0   \n",
       "\n",
       "   Terrace Area  Garden  Garden Area  Surface of the land  \\\n",
       "0          11.0     0.0          NaN                  NaN   \n",
       "1           6.0     0.0          NaN                  NaN   \n",
       "2          62.0     0.0          NaN                  NaN   \n",
       "3         160.0     0.0          NaN                  NaN   \n",
       "4           NaN     0.0          NaN                  NaN   \n",
       "\n",
       "   Surface area of the plot of land  Number of facades  Swimming pool  \\\n",
       "0                               NaN                NaN            0.0   \n",
       "1                               NaN                NaN            0.0   \n",
       "2                               NaN                NaN            0.0   \n",
       "3                               NaN                NaN            0.0   \n",
       "4                               NaN                NaN            0.0   \n",
       "\n",
       "   State of the building  \n",
       "0                    NaN  \n",
       "1                    NaN  \n",
       "2                    NaN  \n",
       "3                    NaN  \n",
       "4                    NaN  \n",
       "\n",
       "[5 rows x 21 columns]"
      ]
     },
     "execution_count": 5,
     "metadata": {},
     "output_type": "execute_result"
    }
   ],
   "source": [
    "df.head()"
   ]
  },
  {
   "cell_type": "markdown",
   "id": "cccc3038",
   "metadata": {},
   "source": [
    "## No duplicates"
   ]
  },
  {
   "cell_type": "code",
   "execution_count": 6,
   "id": "862879c0",
   "metadata": {},
   "outputs": [
    {
     "data": {
      "text/plain": [
       "(73547, 21)"
      ]
     },
     "execution_count": 6,
     "metadata": {},
     "output_type": "execute_result"
    }
   ],
   "source": [
    "df.shape"
   ]
  },
  {
   "cell_type": "code",
   "execution_count": 7,
   "id": "daeaa46e",
   "metadata": {},
   "outputs": [],
   "source": [
    "# dropping duplicate values\n",
    "df.drop_duplicates(keep=False,inplace=True)"
   ]
  },
  {
   "cell_type": "code",
   "execution_count": 8,
   "id": "a121bc21",
   "metadata": {},
   "outputs": [
    {
     "data": {
      "text/plain": [
       "(73547, 21)"
      ]
     },
     "execution_count": 8,
     "metadata": {},
     "output_type": "execute_result"
    }
   ],
   "source": [
    "df.shape"
   ]
  },
  {
   "cell_type": "markdown",
   "id": "203240c2",
   "metadata": {},
   "source": [
    "## No empty values"
   ]
  },
  {
   "cell_type": "code",
   "execution_count": 9,
   "id": "f8fe29df",
   "metadata": {},
   "outputs": [],
   "source": [
    "# replace field that's entirely space (or empty) with NaN\n",
    "df = df.replace(r'^\\s*$', np.nan, regex=True)"
   ]
  },
  {
   "cell_type": "markdown",
   "id": "d9e2f21d",
   "metadata": {},
   "source": [
    "# Data Cleaning in Python"
   ]
  },
  {
   "cell_type": "code",
   "execution_count": 11,
   "id": "498c7379",
   "metadata": {},
   "outputs": [
    {
     "name": "stdout",
     "output_type": "stream",
     "text": [
      "(73547, 21)\n",
      "Url                                  object\n",
      "Source                               object\n",
      "Locality                              int64\n",
      "Type of property                     object\n",
      "Subtype of property                  object\n",
      "Price                               float64\n",
      "Type of sale                         object\n",
      "Number of rooms                     float64\n",
      "Area                                float64\n",
      "Fully equipped kitchen              float64\n",
      "Furnished                           float64\n",
      "Open fire                           float64\n",
      "Terrace                             float64\n",
      "Terrace Area                        float64\n",
      "Garden                              float64\n",
      "Garden Area                         float64\n",
      "Surface of the land                 float64\n",
      "Surface area of the plot of land    float64\n",
      "Number of facades                   float64\n",
      "Swimming pool                       float64\n",
      "State of the building                object\n",
      "dtype: object\n"
     ]
    }
   ],
   "source": [
    "# shape and data types of the data\n",
    "print(df.shape)\n",
    "print(df.dtypes)"
   ]
  },
  {
   "cell_type": "code",
   "execution_count": 12,
   "id": "6c2a6ad7",
   "metadata": {},
   "outputs": [
    {
     "name": "stdout",
     "output_type": "stream",
     "text": [
      "['Locality' 'Price' 'Number of rooms' 'Area' 'Fully equipped kitchen'\n",
      " 'Furnished' 'Open fire' 'Terrace' 'Terrace Area' 'Garden' 'Garden Area'\n",
      " 'Surface of the land' 'Surface area of the plot of land'\n",
      " 'Number of facades' 'Swimming pool']\n"
     ]
    }
   ],
   "source": [
    "# select numeric columns\n",
    "df_numeric = df.select_dtypes(include=[np.number])\n",
    "numeric_cols = df_numeric.columns.values\n",
    "print(numeric_cols)"
   ]
  },
  {
   "cell_type": "code",
   "execution_count": 13,
   "id": "a6e88471",
   "metadata": {},
   "outputs": [
    {
     "name": "stdout",
     "output_type": "stream",
     "text": [
      "['Url' 'Source' 'Type of property' 'Subtype of property' 'Type of sale'\n",
      " 'State of the building']\n"
     ]
    }
   ],
   "source": [
    "# select non numeric columns\n",
    "df_non_numeric = df.select_dtypes(exclude=[np.number])\n",
    "non_numeric_cols = df_non_numeric.columns.values\n",
    "print(non_numeric_cols)"
   ]
  },
  {
   "cell_type": "markdown",
   "id": "17458987",
   "metadata": {},
   "source": [
    "# Missing data"
   ]
  },
  {
   "cell_type": "markdown",
   "id": "41fa3cde",
   "metadata": {},
   "source": [
    "## Technique #1: Missing Data Heatmap"
   ]
  },
  {
   "cell_type": "code",
   "execution_count": 14,
   "id": "e3849fa7",
   "metadata": {},
   "outputs": [
    {
     "data": {
      "text/plain": [
       "<AxesSubplot:>"
      ]
     },
     "execution_count": 14,
     "metadata": {},
     "output_type": "execute_result"
    },
    {
     "data": {
      "image/png": "[encoded data removed]",
      "text/plain": [
       "<Figure size 864x576 with 2 Axes>"
      ]
     },
     "metadata": {},
     "output_type": "display_data"
    }
   ],
   "source": [
    "cols = df.columns[:30] # first 30 columns\n",
    "colours = ['#000099', '#ffff00'] # specify the colours - yellow is missing. blue is not missing.\n",
    "sns.heatmap(df[cols].isnull(), cmap=sns.color_palette(colours))"
   ]
  },
  {
   "cell_type": "markdown",
   "id": "cb64cee7",
   "metadata": {},
   "source": [
    "The chart demonstrates the missing data patterns of the first 30 features. The horizontal axis shows the feature name; the vertical axis shows the number of observations/rows; the yellow color represents the missing data while the blue color otherwise"
   ]
  },
  {
   "cell_type": "markdown",
   "id": "d8a1b84d",
   "metadata": {},
   "source": [
    "## Technique #2: Missing Data Percentage List"
   ]
  },
  {
   "cell_type": "code",
   "execution_count": 15,
   "id": "ee3cee97",
   "metadata": {},
   "outputs": [
    {
     "name": "stdout",
     "output_type": "stream",
     "text": [
      "Url - 0%\n",
      "Source - 0%\n",
      "Locality - 0%\n",
      "Type of property - 1%\n",
      "Subtype of property - 80%\n",
      "Price - 1%\n",
      "Type of sale - 0%\n",
      "Number of rooms - 1%\n",
      "Area - 15%\n",
      "Fully equipped kitchen - 0%\n",
      "Furnished - 27%\n",
      "Open fire - 0%\n",
      "Terrace - 0%\n",
      "Terrace Area - 68%\n",
      "Garden - 0%\n",
      "Garden Area - 85%\n",
      "Surface of the land - 53%\n",
      "Surface area of the plot of land - 53%\n",
      "Number of facades - 51%\n",
      "Swimming pool - 0%\n",
      "State of the building - 45%\n"
     ]
    }
   ],
   "source": [
    "# if it's a larger dataset and the visualization takes too long can do this.\n",
    "# % of missing.\n",
    "for col in df.columns:\n",
    "    pct_missing = np.mean(df[col].isnull())\n",
    "    print('{} - {}%'.format(col, round(pct_missing*100)))"
   ]
  },
  {
   "cell_type": "markdown",
   "id": "84ed2c4f",
   "metadata": {},
   "source": [
    "## Irregular data (Outliers)"
   ]
  },
  {
   "cell_type": "code",
   "execution_count": 16,
   "id": "aba04cba",
   "metadata": {},
   "outputs": [
    {
     "data": {
      "text/html": [
       "<div>\n",
       "<style scoped>\n",
       "    .dataframe tbody tr th:only-of-type {\n",
       "        vertical-align: middle;\n",
       "    }\n",
       "\n",
       "    .dataframe tbody tr th {\n",
       "        vertical-align: top;\n",
       "    }\n",
       "\n",
       "    .dataframe thead th {\n",
       "        text-align: right;\n",
       "    }\n",
       "</style>\n",
       "<table border=\"1\" class=\"dataframe\">\n",
       "  <thead>\n",
       "    <tr style=\"text-align: right;\">\n",
       "      <th></th>\n",
       "      <th>Url</th>\n",
       "      <th>Source</th>\n",
       "      <th>Locality</th>\n",
       "      <th>Type of property</th>\n",
       "      <th>Subtype of property</th>\n",
       "      <th>Price</th>\n",
       "      <th>Type of sale</th>\n",
       "      <th>Number of rooms</th>\n",
       "      <th>Area</th>\n",
       "      <th>Fully equipped kitchen</th>\n",
       "      <th>...</th>\n",
       "      <th>Open fire</th>\n",
       "      <th>Terrace</th>\n",
       "      <th>Terrace Area</th>\n",
       "      <th>Garden</th>\n",
       "      <th>Garden Area</th>\n",
       "      <th>Surface of the land</th>\n",
       "      <th>Surface area of the plot of land</th>\n",
       "      <th>Number of facades</th>\n",
       "      <th>Swimming pool</th>\n",
       "      <th>State of the building</th>\n",
       "    </tr>\n",
       "  </thead>\n",
       "  <tbody>\n",
       "    <tr>\n",
       "      <th>0</th>\n",
       "      <td>https://www.logic-immo.be/fr/vente/appartement...</td>\n",
       "      <td>logic-immo.be</td>\n",
       "      <td>2970</td>\n",
       "      <td>apartment</td>\n",
       "      <td>NaN</td>\n",
       "      <td>319799.0</td>\n",
       "      <td>regular sale</td>\n",
       "      <td>1.0</td>\n",
       "      <td>NaN</td>\n",
       "      <td>0.0</td>\n",
       "      <td>...</td>\n",
       "      <td>0.0</td>\n",
       "      <td>1.0</td>\n",
       "      <td>11.0</td>\n",
       "      <td>0.0</td>\n",
       "      <td>NaN</td>\n",
       "      <td>NaN</td>\n",
       "      <td>NaN</td>\n",
       "      <td>NaN</td>\n",
       "      <td>0.0</td>\n",
       "      <td>NaN</td>\n",
       "    </tr>\n",
       "    <tr>\n",
       "      <th>1</th>\n",
       "      <td>https://www.logic-immo.be/fr/vente/appartement...</td>\n",
       "      <td>logic-immo.be</td>\n",
       "      <td>2970</td>\n",
       "      <td>apartment</td>\n",
       "      <td>NaN</td>\n",
       "      <td>291999.0</td>\n",
       "      <td>regular sale</td>\n",
       "      <td>1.0</td>\n",
       "      <td>NaN</td>\n",
       "      <td>0.0</td>\n",
       "      <td>...</td>\n",
       "      <td>0.0</td>\n",
       "      <td>1.0</td>\n",
       "      <td>6.0</td>\n",
       "      <td>0.0</td>\n",
       "      <td>NaN</td>\n",
       "      <td>NaN</td>\n",
       "      <td>NaN</td>\n",
       "      <td>NaN</td>\n",
       "      <td>0.0</td>\n",
       "      <td>NaN</td>\n",
       "    </tr>\n",
       "    <tr>\n",
       "      <th>2</th>\n",
       "      <td>https://www.logic-immo.be/fr/vente/appartement...</td>\n",
       "      <td>logic-immo.be</td>\n",
       "      <td>2970</td>\n",
       "      <td>apartment</td>\n",
       "      <td>NaN</td>\n",
       "      <td>764999.0</td>\n",
       "      <td>regular sale</td>\n",
       "      <td>2.0</td>\n",
       "      <td>153.0</td>\n",
       "      <td>0.0</td>\n",
       "      <td>...</td>\n",
       "      <td>0.0</td>\n",
       "      <td>1.0</td>\n",
       "      <td>62.0</td>\n",
       "      <td>0.0</td>\n",
       "      <td>NaN</td>\n",
       "      <td>NaN</td>\n",
       "      <td>NaN</td>\n",
       "      <td>NaN</td>\n",
       "      <td>0.0</td>\n",
       "      <td>NaN</td>\n",
       "    </tr>\n",
       "    <tr>\n",
       "      <th>3</th>\n",
       "      <td>https://www.logic-immo.be/fr/vente/appartement...</td>\n",
       "      <td>logic-immo.be</td>\n",
       "      <td>2970</td>\n",
       "      <td>apartment</td>\n",
       "      <td>NaN</td>\n",
       "      <td>660264.0</td>\n",
       "      <td>regular sale</td>\n",
       "      <td>3.0</td>\n",
       "      <td>NaN</td>\n",
       "      <td>0.0</td>\n",
       "      <td>...</td>\n",
       "      <td>0.0</td>\n",
       "      <td>1.0</td>\n",
       "      <td>160.0</td>\n",
       "      <td>0.0</td>\n",
       "      <td>NaN</td>\n",
       "      <td>NaN</td>\n",
       "      <td>NaN</td>\n",
       "      <td>NaN</td>\n",
       "      <td>0.0</td>\n",
       "      <td>NaN</td>\n",
       "    </tr>\n",
       "    <tr>\n",
       "      <th>4</th>\n",
       "      <td>https://www.logic-immo.be/fr/vente/appartement...</td>\n",
       "      <td>logic-immo.be</td>\n",
       "      <td>3200</td>\n",
       "      <td>apartment</td>\n",
       "      <td>NaN</td>\n",
       "      <td>294999.0</td>\n",
       "      <td>regular sale</td>\n",
       "      <td>2.0</td>\n",
       "      <td>80.0</td>\n",
       "      <td>0.0</td>\n",
       "      <td>...</td>\n",
       "      <td>0.0</td>\n",
       "      <td>0.0</td>\n",
       "      <td>NaN</td>\n",
       "      <td>0.0</td>\n",
       "      <td>NaN</td>\n",
       "      <td>NaN</td>\n",
       "      <td>NaN</td>\n",
       "      <td>NaN</td>\n",
       "      <td>0.0</td>\n",
       "      <td>NaN</td>\n",
       "    </tr>\n",
       "  </tbody>\n",
       "</table>\n",
       "<p>5 rows × 21 columns</p>\n",
       "</div>"
      ],
      "text/plain": [
       "                                                 Url         Source  Locality  \\\n",
       "0  https://www.logic-immo.be/fr/vente/appartement...  logic-immo.be      2970   \n",
       "1  https://www.logic-immo.be/fr/vente/appartement...  logic-immo.be      2970   \n",
       "2  https://www.logic-immo.be/fr/vente/appartement...  logic-immo.be      2970   \n",
       "3  https://www.logic-immo.be/fr/vente/appartement...  logic-immo.be      2970   \n",
       "4  https://www.logic-immo.be/fr/vente/appartement...  logic-immo.be      3200   \n",
       "\n",
       "  Type of property Subtype of property     Price  Type of sale  \\\n",
       "0        apartment                 NaN  319799.0  regular sale   \n",
       "1        apartment                 NaN  291999.0  regular sale   \n",
       "2        apartment                 NaN  764999.0  regular sale   \n",
       "3        apartment                 NaN  660264.0  regular sale   \n",
       "4        apartment                 NaN  294999.0  regular sale   \n",
       "\n",
       "   Number of rooms   Area  Fully equipped kitchen  ...  Open fire  Terrace  \\\n",
       "0              1.0    NaN                     0.0  ...        0.0      1.0   \n",
       "1              1.0    NaN                     0.0  ...        0.0      1.0   \n",
       "2              2.0  153.0                     0.0  ...        0.0      1.0   \n",
       "3              3.0    NaN                     0.0  ...        0.0      1.0   \n",
       "4              2.0   80.0                     0.0  ...        0.0      0.0   \n",
       "\n",
       "   Terrace Area  Garden  Garden Area  Surface of the land  \\\n",
       "0          11.0     0.0          NaN                  NaN   \n",
       "1           6.0     0.0          NaN                  NaN   \n",
       "2          62.0     0.0          NaN                  NaN   \n",
       "3         160.0     0.0          NaN                  NaN   \n",
       "4           NaN     0.0          NaN                  NaN   \n",
       "\n",
       "   Surface area of the plot of land  Number of facades  Swimming pool  \\\n",
       "0                               NaN                NaN            0.0   \n",
       "1                               NaN                NaN            0.0   \n",
       "2                               NaN                NaN            0.0   \n",
       "3                               NaN                NaN            0.0   \n",
       "4                               NaN                NaN            0.0   \n",
       "\n",
       "   State of the building  \n",
       "0                    NaN  \n",
       "1                    NaN  \n",
       "2                    NaN  \n",
       "3                    NaN  \n",
       "4                    NaN  \n",
       "\n",
       "[5 rows x 21 columns]"
      ]
     },
     "execution_count": 16,
     "metadata": {},
     "output_type": "execute_result"
    }
   ],
   "source": [
    "df.head()"
   ]
  },
  {
   "cell_type": "code",
   "execution_count": 17,
   "id": "f2c7d8bd",
   "metadata": {},
   "outputs": [
    {
     "name": "stdout",
     "output_type": "stream",
     "text": [
      "['Locality' 'Price' 'Number of rooms' 'Area' 'Fully equipped kitchen'\n",
      " 'Furnished' 'Open fire' 'Terrace' 'Terrace Area' 'Garden' 'Garden Area'\n",
      " 'Surface of the land' 'Surface area of the plot of land'\n",
      " 'Number of facades' 'Swimming pool']\n"
     ]
    }
   ],
   "source": [
    "# select numeric columns\n",
    "df_numeric = df.select_dtypes(include=[np.number])\n",
    "numeric_cols = df_numeric.columns.values\n",
    "print(numeric_cols)"
   ]
  },
  {
   "cell_type": "markdown",
   "id": "f0060f58",
   "metadata": {},
   "source": [
    "### Numeric data"
   ]
  },
  {
   "cell_type": "code",
   "execution_count": 19,
   "id": "e94ff77b",
   "metadata": {},
   "outputs": [
    {
     "data": {
      "text/plain": [
       "<AxesSubplot:>"
      ]
     },
     "execution_count": 19,
     "metadata": {},
     "output_type": "execute_result"
    },
    {
     "data": {
      "image/png": "[encoded data removed]",
      "text/plain": [
       "<Figure size 864x576 with 1 Axes>"
      ]
     },
     "metadata": {},
     "output_type": "display_data"
    }
   ],
   "source": [
    "# box plot.\n",
    "df.boxplot(column=['Price'])"
   ]
  },
  {
   "cell_type": "code",
   "execution_count": 20,
   "id": "1fb6a005",
   "metadata": {},
   "outputs": [
    {
     "data": {
      "text/plain": [
       "<AxesSubplot:>"
      ]
     },
     "execution_count": 20,
     "metadata": {},
     "output_type": "execute_result"
    },
    {
     "data": {
      "image/png": "[encoded data removed]",
      "text/plain": [
       "<Figure size 864x576 with 1 Axes>"
      ]
     },
     "metadata": {},
     "output_type": "display_data"
    }
   ],
   "source": [
    "# box plot.\n",
    "df.boxplot(column=['Number of rooms'])"
   ]
  },
  {
   "cell_type": "code",
   "execution_count": 21,
   "id": "a8c5dfeb",
   "metadata": {},
   "outputs": [
    {
     "data": {
      "text/plain": [
       "<AxesSubplot:>"
      ]
     },
     "execution_count": 21,
     "metadata": {},
     "output_type": "execute_result"
    },
    {
     "data": {
      "image/png": "[encoded data removed]",
      "text/plain": [
       "<Figure size 864x576 with 1 Axes>"
      ]
     },
     "metadata": {},
     "output_type": "display_data"
    }
   ],
   "source": [
    "# box plot.\n",
    "df.boxplot(column=['Area'])"
   ]
  },
  {
   "cell_type": "code",
   "execution_count": 22,
   "id": "dd658d19",
   "metadata": {},
   "outputs": [
    {
     "data": {
      "text/plain": [
       "<AxesSubplot:>"
      ]
     },
     "execution_count": 22,
     "metadata": {},
     "output_type": "execute_result"
    },
    {
     "data": {
      "image/png": "[encoded data removed]",
      "text/plain": [
       "<Figure size 864x576 with 1 Axes>"
      ]
     },
     "metadata": {},
     "output_type": "display_data"
    }
   ],
   "source": [
    "# box plot.\n",
    "df.boxplot(column=['Terrace Area'])"
   ]
  },
  {
   "cell_type": "code",
   "execution_count": 23,
   "id": "50626a6e",
   "metadata": {},
   "outputs": [
    {
     "data": {
      "text/plain": [
       "<AxesSubplot:>"
      ]
     },
     "execution_count": 23,
     "metadata": {},
     "output_type": "execute_result"
    },
    {
     "data": {
      "image/png": "[encoded data removed]",
      "text/plain": [
       "<Figure size 864x576 with 1 Axes>"
      ]
     },
     "metadata": {},
     "output_type": "display_data"
    }
   ],
   "source": [
    "# box plot.\n",
    "df.boxplot(column=['Garden Area'])"
   ]
  },
  {
   "cell_type": "code",
   "execution_count": 24,
   "id": "1a050105",
   "metadata": {},
   "outputs": [
    {
     "data": {
      "text/plain": [
       "<AxesSubplot:>"
      ]
     },
     "execution_count": 24,
     "metadata": {},
     "output_type": "execute_result"
    },
    {
     "data": {
      "image/png": "[encoded data removed]",
      "text/plain": [
       "<Figure size 864x576 with 1 Axes>"
      ]
     },
     "metadata": {},
     "output_type": "display_data"
    }
   ],
   "source": [
    "# box plot.\n",
    "df.boxplot(column=['Surface of the land'])"
   ]
  },
  {
   "cell_type": "code",
   "execution_count": 25,
   "id": "7c896df7",
   "metadata": {},
   "outputs": [
    {
     "data": {
      "text/plain": [
       "<AxesSubplot:>"
      ]
     },
     "execution_count": 25,
     "metadata": {},
     "output_type": "execute_result"
    },
    {
     "data": {
      "image/png": "[encoded data removed]",
      "text/plain": [
       "<Figure size 864x576 with 1 Axes>"
      ]
     },
     "metadata": {},
     "output_type": "display_data"
    }
   ],
   "source": [
    "# box plot.\n",
    "df.boxplot(column=['Surface area of the plot of land'])"
   ]
  },
  {
   "cell_type": "code",
   "execution_count": 26,
   "id": "eb845316",
   "metadata": {},
   "outputs": [
    {
     "data": {
      "text/plain": [
       "<AxesSubplot:>"
      ]
     },
     "execution_count": 26,
     "metadata": {},
     "output_type": "execute_result"
    },
    {
     "data": {
      "image/png": "[encoded data removed]",
      "text/plain": [
       "<Figure size 864x576 with 1 Axes>"
      ]
     },
     "metadata": {},
     "output_type": "display_data"
    }
   ],
   "source": [
    "df.boxplot(column=['Number of facades'])"
   ]
  },
  {
   "cell_type": "code",
   "execution_count": 27,
   "id": "9b21cfce",
   "metadata": {},
   "outputs": [
    {
     "data": {
      "text/html": [
       "<div>\n",
       "<style scoped>\n",
       "    .dataframe tbody tr th:only-of-type {\n",
       "        vertical-align: middle;\n",
       "    }\n",
       "\n",
       "    .dataframe tbody tr th {\n",
       "        vertical-align: top;\n",
       "    }\n",
       "\n",
       "    .dataframe thead th {\n",
       "        text-align: right;\n",
       "    }\n",
       "</style>\n",
       "<table border=\"1\" class=\"dataframe\">\n",
       "  <thead>\n",
       "    <tr style=\"text-align: right;\">\n",
       "      <th></th>\n",
       "      <th>Price</th>\n",
       "      <th>Number of rooms</th>\n",
       "      <th>Area</th>\n",
       "      <th>Terrace Area</th>\n",
       "      <th>Garden Area</th>\n",
       "      <th>Surface of the land</th>\n",
       "      <th>Surface area of the plot of land</th>\n",
       "      <th>Number of facades</th>\n",
       "    </tr>\n",
       "  </thead>\n",
       "  <tbody>\n",
       "    <tr>\n",
       "      <th>0</th>\n",
       "      <td>319799.0</td>\n",
       "      <td>1.0</td>\n",
       "      <td>NaN</td>\n",
       "      <td>11.0</td>\n",
       "      <td>NaN</td>\n",
       "      <td>NaN</td>\n",
       "      <td>NaN</td>\n",
       "      <td>NaN</td>\n",
       "    </tr>\n",
       "    <tr>\n",
       "      <th>1</th>\n",
       "      <td>291999.0</td>\n",
       "      <td>1.0</td>\n",
       "      <td>NaN</td>\n",
       "      <td>6.0</td>\n",
       "      <td>NaN</td>\n",
       "      <td>NaN</td>\n",
       "      <td>NaN</td>\n",
       "      <td>NaN</td>\n",
       "    </tr>\n",
       "    <tr>\n",
       "      <th>2</th>\n",
       "      <td>764999.0</td>\n",
       "      <td>2.0</td>\n",
       "      <td>153.0</td>\n",
       "      <td>62.0</td>\n",
       "      <td>NaN</td>\n",
       "      <td>NaN</td>\n",
       "      <td>NaN</td>\n",
       "      <td>NaN</td>\n",
       "    </tr>\n",
       "    <tr>\n",
       "      <th>3</th>\n",
       "      <td>660264.0</td>\n",
       "      <td>3.0</td>\n",
       "      <td>NaN</td>\n",
       "      <td>160.0</td>\n",
       "      <td>NaN</td>\n",
       "      <td>NaN</td>\n",
       "      <td>NaN</td>\n",
       "      <td>NaN</td>\n",
       "    </tr>\n",
       "    <tr>\n",
       "      <th>4</th>\n",
       "      <td>294999.0</td>\n",
       "      <td>2.0</td>\n",
       "      <td>80.0</td>\n",
       "      <td>NaN</td>\n",
       "      <td>NaN</td>\n",
       "      <td>NaN</td>\n",
       "      <td>NaN</td>\n",
       "      <td>NaN</td>\n",
       "    </tr>\n",
       "  </tbody>\n",
       "</table>\n",
       "</div>"
      ],
      "text/plain": [
       "      Price  Number of rooms   Area  Terrace Area  Garden Area  \\\n",
       "0  319799.0              1.0    NaN          11.0          NaN   \n",
       "1  291999.0              1.0    NaN           6.0          NaN   \n",
       "2  764999.0              2.0  153.0          62.0          NaN   \n",
       "3  660264.0              3.0    NaN         160.0          NaN   \n",
       "4  294999.0              2.0   80.0           NaN          NaN   \n",
       "\n",
       "   Surface of the land  Surface area of the plot of land  Number of facades  \n",
       "0                  NaN                               NaN                NaN  \n",
       "1                  NaN                               NaN                NaN  \n",
       "2                  NaN                               NaN                NaN  \n",
       "3                  NaN                               NaN                NaN  \n",
       "4                  NaN                               NaN                NaN  "
      ]
     },
     "execution_count": 27,
     "metadata": {},
     "output_type": "execute_result"
    }
   ],
   "source": [
    "# Subset numerical data to remove outliers\n",
    "df_outliers = df_numeric[['Price', 'Number of rooms', 'Area', 'Terrace Area', 'Garden Area', 'Surface of the land', 'Surface area of the plot of land', 'Number of facades']]\n",
    "df_outliers.head()"
   ]
  },
  {
   "cell_type": "code",
   "execution_count": 36,
   "id": "99d4db36",
   "metadata": {},
   "outputs": [
    {
     "data": {
      "text/plain": [
       "count     62275.000000\n",
       "mean        169.278121\n",
       "std        3030.101361\n",
       "min           1.000000\n",
       "25%          89.000000\n",
       "50%         120.000000\n",
       "75%         177.000000\n",
       "max      755000.000000\n",
       "Name: Area, dtype: float64"
      ]
     },
     "execution_count": 36,
     "metadata": {},
     "output_type": "execute_result"
    }
   ],
   "source": [
    "df_outliers['Area'].describe()"
   ]
  },
  {
   "cell_type": "code",
   "execution_count": null,
   "id": "8a028ceb",
   "metadata": {},
   "outputs": [],
   "source": [
    "#Removing Outiliers [It's not finished]\n",
    "\n",
    "from scipy import stats\n",
    "df_outliers[(np.abs(stats.zscore(df)) < 3).all(axis=1)]"
   ]
  },
  {
   "cell_type": "markdown",
   "id": "738b3b4c",
   "metadata": {},
   "source": [
    "description:\n",
    "\n",
    "- For each column, it first computes the Z-score of each value in the column, relative to the column mean and standard deviation.\n",
    "- It then takes the absolute Z-score because the direction does not matter, only if it is below the threshold.\n",
    "- All(axis=1) ensures that for each row, all column satisfy the constraint.\n",
    "- Finally, the result of this condition is used to index the dataframe.\n"
   ]
  },
  {
   "cell_type": "markdown",
   "id": "42ef7dc4",
   "metadata": {},
   "source": [
    "### Categorical data"
   ]
  },
  {
   "cell_type": "code",
   "execution_count": null,
   "id": "9e2774f3",
   "metadata": {},
   "outputs": [],
   "source": [
    "# select non numeric columns\n",
    "df_non_numeric = df.select_dtypes(exclude=[np.number])\n",
    "non_numeric_cols = df_non_numeric.columns.values\n",
    "print(non_numeric_cols)"
   ]
  },
  {
   "cell_type": "code",
   "execution_count": null,
   "id": "c2367888",
   "metadata": {},
   "outputs": [],
   "source": [
    "# bar chart -  distribution of a categorical variable\n",
    "df['Source'].value_counts().plot.bar()"
   ]
  },
  {
   "cell_type": "code",
   "execution_count": null,
   "id": "f448aa4a",
   "metadata": {},
   "outputs": [],
   "source": [
    "# bar chart -  distribution of a categorical variable\n",
    "df['Type of property'].value_counts().plot.bar()"
   ]
  },
  {
   "cell_type": "code",
   "execution_count": null,
   "id": "e06cda7a",
   "metadata": {},
   "outputs": [],
   "source": [
    "# bar chart -  distribution of a categorical variable\n",
    "df['Subtype of property'].value_counts().plot.bar()"
   ]
  },
  {
   "cell_type": "code",
   "execution_count": null,
   "id": "d130037a",
   "metadata": {},
   "outputs": [],
   "source": [
    "# bar chart -  distribution of a categorical variable\n",
    "df[\"Type of sale\"].value_counts().plot.bar()\n"
   ]
  },
  {
   "cell_type": "code",
   "execution_count": null,
   "id": "8dad5b72",
   "metadata": {},
   "outputs": [],
   "source": [
    "# bar chart -  distribution of a categorical variable\n",
    "df['State of the building'].value_counts().plot.bar()"
   ]
  },
  {
   "cell_type": "code",
   "execution_count": null,
   "id": "1100ca50",
   "metadata": {},
   "outputs": [],
   "source": []
  }
 ],
 "metadata": {
  "kernelspec": {
   "display_name": "Python 3",
   "language": "python",
   "name": "python3"
  },
  "language_info": {
   "codemirror_mode": {
    "name": "ipython",
    "version": 3
   },
   "file_extension": ".py",
   "mimetype": "text/x-python",
   "name": "python",
   "nbconvert_exporter": "python",
   "pygments_lexer": "ipython3",
   "version": "3.8.5"
  }
 },
 "nbformat": 4,
 "nbformat_minor": 5
}
