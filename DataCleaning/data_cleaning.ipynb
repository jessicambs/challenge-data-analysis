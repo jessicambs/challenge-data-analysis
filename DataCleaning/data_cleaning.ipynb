{
 "cells": [
  {
   "cell_type": "markdown",
   "metadata": {},
   "source": [
    "## Loading data"
   ]
  },
  {
   "cell_type": "code",
   "execution_count": 1,
   "metadata": {},
   "outputs": [],
   "source": [
    "# import packages\n",
    "import pandas as pd\n",
    "import numpy as np\n",
    "import seaborn as sns\n",
    "\n",
    "import matplotlib.pyplot as plt\n",
    "import matplotlib.mlab as mlab\n",
    "import matplotlib\n",
    "plt.style.use('ggplot')\n",
    "from matplotlib.pyplot import figure\n",
    "\n",
    "%matplotlib inline\n",
    "matplotlib.rcParams['figure.figsize'] = (12,8)\n",
    "\n",
    "pd.options.mode.chained_assignment = None"
   ]
  },
  {
   "cell_type": "code",
   "execution_count": 154,
   "metadata": {},
   "outputs": [
    {
     "data": {
      "text/html": [
       "<div>\n",
       "<style scoped>\n",
       "    .dataframe tbody tr th:only-of-type {\n",
       "        vertical-align: middle;\n",
       "    }\n",
       "\n",
       "    .dataframe tbody tr th {\n",
       "        vertical-align: top;\n",
       "    }\n",
       "\n",
       "    .dataframe thead th {\n",
       "        text-align: right;\n",
       "    }\n",
       "</style>\n",
       "<table border=\"1\" class=\"dataframe\">\n",
       "  <thead>\n",
       "    <tr style=\"text-align: right;\">\n",
       "      <th></th>\n",
       "      <th>Unnamed: 0</th>\n",
       "      <th>Url</th>\n",
       "      <th>Source</th>\n",
       "      <th>Locality</th>\n",
       "      <th>Type of property</th>\n",
       "      <th>Subtype of property</th>\n",
       "      <th>Price</th>\n",
       "      <th>Type of sale</th>\n",
       "      <th>Number of rooms</th>\n",
       "      <th>Area</th>\n",
       "      <th>...</th>\n",
       "      <th>Terrace Area</th>\n",
       "      <th>Garden</th>\n",
       "      <th>Garden Area</th>\n",
       "      <th>Surface of the land</th>\n",
       "      <th>Surface area of the plot of land</th>\n",
       "      <th>Number of facades</th>\n",
       "      <th>Swimming pool</th>\n",
       "      <th>State of the building</th>\n",
       "      <th>Province</th>\n",
       "      <th>Region</th>\n",
       "    </tr>\n",
       "  </thead>\n",
       "  <tbody>\n",
       "    <tr>\n",
       "      <th>0</th>\n",
       "      <td>0</td>\n",
       "      <td>https://www.logic-immo.be/fr/vente/appartement...</td>\n",
       "      <td>logic-immo.be</td>\n",
       "      <td>2970</td>\n",
       "      <td>apartment</td>\n",
       "      <td>NaN</td>\n",
       "      <td>319799.0</td>\n",
       "      <td>regular sale</td>\n",
       "      <td>1.0</td>\n",
       "      <td>NaN</td>\n",
       "      <td>...</td>\n",
       "      <td>11.0</td>\n",
       "      <td>0.0</td>\n",
       "      <td>NaN</td>\n",
       "      <td>NaN</td>\n",
       "      <td>NaN</td>\n",
       "      <td>NaN</td>\n",
       "      <td>0.0</td>\n",
       "      <td>NaN</td>\n",
       "      <td>Antwerp</td>\n",
       "      <td>Vlaams</td>\n",
       "    </tr>\n",
       "    <tr>\n",
       "      <th>1</th>\n",
       "      <td>1</td>\n",
       "      <td>https://www.logic-immo.be/fr/vente/appartement...</td>\n",
       "      <td>logic-immo.be</td>\n",
       "      <td>2970</td>\n",
       "      <td>apartment</td>\n",
       "      <td>NaN</td>\n",
       "      <td>291999.0</td>\n",
       "      <td>regular sale</td>\n",
       "      <td>1.0</td>\n",
       "      <td>NaN</td>\n",
       "      <td>...</td>\n",
       "      <td>6.0</td>\n",
       "      <td>0.0</td>\n",
       "      <td>NaN</td>\n",
       "      <td>NaN</td>\n",
       "      <td>NaN</td>\n",
       "      <td>NaN</td>\n",
       "      <td>0.0</td>\n",
       "      <td>NaN</td>\n",
       "      <td>Antwerp</td>\n",
       "      <td>Vlaams</td>\n",
       "    </tr>\n",
       "    <tr>\n",
       "      <th>2</th>\n",
       "      <td>2</td>\n",
       "      <td>https://www.logic-immo.be/fr/vente/appartement...</td>\n",
       "      <td>logic-immo.be</td>\n",
       "      <td>2970</td>\n",
       "      <td>apartment</td>\n",
       "      <td>NaN</td>\n",
       "      <td>764999.0</td>\n",
       "      <td>regular sale</td>\n",
       "      <td>2.0</td>\n",
       "      <td>153.0</td>\n",
       "      <td>...</td>\n",
       "      <td>62.0</td>\n",
       "      <td>0.0</td>\n",
       "      <td>NaN</td>\n",
       "      <td>NaN</td>\n",
       "      <td>NaN</td>\n",
       "      <td>NaN</td>\n",
       "      <td>0.0</td>\n",
       "      <td>NaN</td>\n",
       "      <td>Antwerp</td>\n",
       "      <td>Vlaams</td>\n",
       "    </tr>\n",
       "    <tr>\n",
       "      <th>3</th>\n",
       "      <td>3</td>\n",
       "      <td>https://www.logic-immo.be/fr/vente/appartement...</td>\n",
       "      <td>logic-immo.be</td>\n",
       "      <td>2970</td>\n",
       "      <td>apartment</td>\n",
       "      <td>NaN</td>\n",
       "      <td>660264.0</td>\n",
       "      <td>regular sale</td>\n",
       "      <td>3.0</td>\n",
       "      <td>NaN</td>\n",
       "      <td>...</td>\n",
       "      <td>160.0</td>\n",
       "      <td>0.0</td>\n",
       "      <td>NaN</td>\n",
       "      <td>NaN</td>\n",
       "      <td>NaN</td>\n",
       "      <td>NaN</td>\n",
       "      <td>0.0</td>\n",
       "      <td>NaN</td>\n",
       "      <td>Antwerp</td>\n",
       "      <td>Vlaams</td>\n",
       "    </tr>\n",
       "    <tr>\n",
       "      <th>4</th>\n",
       "      <td>4</td>\n",
       "      <td>https://www.logic-immo.be/fr/vente/appartement...</td>\n",
       "      <td>logic-immo.be</td>\n",
       "      <td>3200</td>\n",
       "      <td>apartment</td>\n",
       "      <td>NaN</td>\n",
       "      <td>294999.0</td>\n",
       "      <td>regular sale</td>\n",
       "      <td>2.0</td>\n",
       "      <td>80.0</td>\n",
       "      <td>...</td>\n",
       "      <td>NaN</td>\n",
       "      <td>0.0</td>\n",
       "      <td>NaN</td>\n",
       "      <td>NaN</td>\n",
       "      <td>NaN</td>\n",
       "      <td>NaN</td>\n",
       "      <td>0.0</td>\n",
       "      <td>NaN</td>\n",
       "      <td>Vlaams-Brabant</td>\n",
       "      <td>Vlaams</td>\n",
       "    </tr>\n",
       "  </tbody>\n",
       "</table>\n",
       "<p>5 rows × 24 columns</p>\n",
       "</div>"
      ],
      "text/plain": [
       "   Unnamed: 0                                                Url  \\\n",
       "0           0  https://www.logic-immo.be/fr/vente/appartement...   \n",
       "1           1  https://www.logic-immo.be/fr/vente/appartement...   \n",
       "2           2  https://www.logic-immo.be/fr/vente/appartement...   \n",
       "3           3  https://www.logic-immo.be/fr/vente/appartement...   \n",
       "4           4  https://www.logic-immo.be/fr/vente/appartement...   \n",
       "\n",
       "          Source  Locality Type of property Subtype of property     Price  \\\n",
       "0  logic-immo.be      2970        apartment                 NaN  319799.0   \n",
       "1  logic-immo.be      2970        apartment                 NaN  291999.0   \n",
       "2  logic-immo.be      2970        apartment                 NaN  764999.0   \n",
       "3  logic-immo.be      2970        apartment                 NaN  660264.0   \n",
       "4  logic-immo.be      3200        apartment                 NaN  294999.0   \n",
       "\n",
       "   Type of sale  Number of rooms   Area  ...  Terrace Area  Garden  \\\n",
       "0  regular sale              1.0    NaN  ...          11.0     0.0   \n",
       "1  regular sale              1.0    NaN  ...           6.0     0.0   \n",
       "2  regular sale              2.0  153.0  ...          62.0     0.0   \n",
       "3  regular sale              3.0    NaN  ...         160.0     0.0   \n",
       "4  regular sale              2.0   80.0  ...           NaN     0.0   \n",
       "\n",
       "   Garden Area  Surface of the land  Surface area of the plot of land  \\\n",
       "0          NaN                  NaN                               NaN   \n",
       "1          NaN                  NaN                               NaN   \n",
       "2          NaN                  NaN                               NaN   \n",
       "3          NaN                  NaN                               NaN   \n",
       "4          NaN                  NaN                               NaN   \n",
       "\n",
       "   Number of facades  Swimming pool  State of the building        Province  \\\n",
       "0                NaN            0.0                    NaN         Antwerp   \n",
       "1                NaN            0.0                    NaN         Antwerp   \n",
       "2                NaN            0.0                    NaN         Antwerp   \n",
       "3                NaN            0.0                    NaN         Antwerp   \n",
       "4                NaN            0.0                    NaN  Vlaams-Brabant   \n",
       "\n",
       "   Region  \n",
       "0  Vlaams  \n",
       "1  Vlaams  \n",
       "2  Vlaams  \n",
       "3  Vlaams  \n",
       "4  Vlaams  \n",
       "\n",
       "[5 rows x 24 columns]"
      ]
     },
     "execution_count": 154,
     "metadata": {},
     "output_type": "execute_result"
    }
   ],
   "source": [
    "# modifying read_csv lines to also use skipinitialspace=True\n",
    "df = pd.read_csv('https://raw.githubusercontent.com/JulienAlardot/challenge-collecting-data/main/Data/database.csv', sep=',\\s+', delimiter=',', encoding=\"utf-8\", skipinitialspace=True)\n",
    "df.head()"
   ]
  },
  {
   "cell_type": "markdown",
   "metadata": {},
   "source": [
    "## Rename columns and first selection"
   ]
  },
  {
   "cell_type": "code",
   "execution_count": 3,
   "metadata": {},
   "outputs": [
    {
     "data": {
      "text/html": [
       "<div>\n",
       "<style scoped>\n",
       "    .dataframe tbody tr th:only-of-type {\n",
       "        vertical-align: middle;\n",
       "    }\n",
       "\n",
       "    .dataframe tbody tr th {\n",
       "        vertical-align: top;\n",
       "    }\n",
       "\n",
       "    .dataframe thead th {\n",
       "        text-align: right;\n",
       "    }\n",
       "</style>\n",
       "<table border=\"1\" class=\"dataframe\">\n",
       "  <thead>\n",
       "    <tr style=\"text-align: right;\">\n",
       "      <th></th>\n",
       "      <th>Url</th>\n",
       "      <th>Source</th>\n",
       "      <th>Locality</th>\n",
       "      <th>Type of property</th>\n",
       "      <th>Subtype of property</th>\n",
       "      <th>Price</th>\n",
       "      <th>Type of sale</th>\n",
       "      <th>Number of rooms</th>\n",
       "      <th>Area</th>\n",
       "      <th>Fully equipped kitchen</th>\n",
       "      <th>...</th>\n",
       "      <th>Terrace Area</th>\n",
       "      <th>Garden</th>\n",
       "      <th>Garden Area</th>\n",
       "      <th>Surface of the land</th>\n",
       "      <th>Surface area of the plot of land</th>\n",
       "      <th>Number of facades</th>\n",
       "      <th>Swimming pool</th>\n",
       "      <th>State of the building</th>\n",
       "      <th>Province</th>\n",
       "      <th>Region</th>\n",
       "    </tr>\n",
       "  </thead>\n",
       "  <tbody>\n",
       "    <tr>\n",
       "      <th>0</th>\n",
       "      <td>https://www.logic-immo.be/fr/vente/appartement...</td>\n",
       "      <td>logic-immo.be</td>\n",
       "      <td>2970</td>\n",
       "      <td>apartment</td>\n",
       "      <td>NaN</td>\n",
       "      <td>319799.0</td>\n",
       "      <td>regular sale</td>\n",
       "      <td>1.0</td>\n",
       "      <td>NaN</td>\n",
       "      <td>0.0</td>\n",
       "      <td>...</td>\n",
       "      <td>11.0</td>\n",
       "      <td>0.0</td>\n",
       "      <td>NaN</td>\n",
       "      <td>NaN</td>\n",
       "      <td>NaN</td>\n",
       "      <td>NaN</td>\n",
       "      <td>0.0</td>\n",
       "      <td>NaN</td>\n",
       "      <td>Antwerp</td>\n",
       "      <td>Vlaams</td>\n",
       "    </tr>\n",
       "    <tr>\n",
       "      <th>1</th>\n",
       "      <td>https://www.logic-immo.be/fr/vente/appartement...</td>\n",
       "      <td>logic-immo.be</td>\n",
       "      <td>2970</td>\n",
       "      <td>apartment</td>\n",
       "      <td>NaN</td>\n",
       "      <td>291999.0</td>\n",
       "      <td>regular sale</td>\n",
       "      <td>1.0</td>\n",
       "      <td>NaN</td>\n",
       "      <td>0.0</td>\n",
       "      <td>...</td>\n",
       "      <td>6.0</td>\n",
       "      <td>0.0</td>\n",
       "      <td>NaN</td>\n",
       "      <td>NaN</td>\n",
       "      <td>NaN</td>\n",
       "      <td>NaN</td>\n",
       "      <td>0.0</td>\n",
       "      <td>NaN</td>\n",
       "      <td>Antwerp</td>\n",
       "      <td>Vlaams</td>\n",
       "    </tr>\n",
       "    <tr>\n",
       "      <th>2</th>\n",
       "      <td>https://www.logic-immo.be/fr/vente/appartement...</td>\n",
       "      <td>logic-immo.be</td>\n",
       "      <td>2970</td>\n",
       "      <td>apartment</td>\n",
       "      <td>NaN</td>\n",
       "      <td>764999.0</td>\n",
       "      <td>regular sale</td>\n",
       "      <td>2.0</td>\n",
       "      <td>153.0</td>\n",
       "      <td>0.0</td>\n",
       "      <td>...</td>\n",
       "      <td>62.0</td>\n",
       "      <td>0.0</td>\n",
       "      <td>NaN</td>\n",
       "      <td>NaN</td>\n",
       "      <td>NaN</td>\n",
       "      <td>NaN</td>\n",
       "      <td>0.0</td>\n",
       "      <td>NaN</td>\n",
       "      <td>Antwerp</td>\n",
       "      <td>Vlaams</td>\n",
       "    </tr>\n",
       "    <tr>\n",
       "      <th>3</th>\n",
       "      <td>https://www.logic-immo.be/fr/vente/appartement...</td>\n",
       "      <td>logic-immo.be</td>\n",
       "      <td>2970</td>\n",
       "      <td>apartment</td>\n",
       "      <td>NaN</td>\n",
       "      <td>660264.0</td>\n",
       "      <td>regular sale</td>\n",
       "      <td>3.0</td>\n",
       "      <td>NaN</td>\n",
       "      <td>0.0</td>\n",
       "      <td>...</td>\n",
       "      <td>160.0</td>\n",
       "      <td>0.0</td>\n",
       "      <td>NaN</td>\n",
       "      <td>NaN</td>\n",
       "      <td>NaN</td>\n",
       "      <td>NaN</td>\n",
       "      <td>0.0</td>\n",
       "      <td>NaN</td>\n",
       "      <td>Antwerp</td>\n",
       "      <td>Vlaams</td>\n",
       "    </tr>\n",
       "    <tr>\n",
       "      <th>4</th>\n",
       "      <td>https://www.logic-immo.be/fr/vente/appartement...</td>\n",
       "      <td>logic-immo.be</td>\n",
       "      <td>3200</td>\n",
       "      <td>apartment</td>\n",
       "      <td>NaN</td>\n",
       "      <td>294999.0</td>\n",
       "      <td>regular sale</td>\n",
       "      <td>2.0</td>\n",
       "      <td>80.0</td>\n",
       "      <td>0.0</td>\n",
       "      <td>...</td>\n",
       "      <td>NaN</td>\n",
       "      <td>0.0</td>\n",
       "      <td>NaN</td>\n",
       "      <td>NaN</td>\n",
       "      <td>NaN</td>\n",
       "      <td>NaN</td>\n",
       "      <td>0.0</td>\n",
       "      <td>NaN</td>\n",
       "      <td>Vlaams-Brabant</td>\n",
       "      <td>Vlaams</td>\n",
       "    </tr>\n",
       "  </tbody>\n",
       "</table>\n",
       "<p>5 rows × 23 columns</p>\n",
       "</div>"
      ],
      "text/plain": [
       "                                                 Url         Source  Locality  \\\n",
       "0  https://www.logic-immo.be/fr/vente/appartement...  logic-immo.be      2970   \n",
       "1  https://www.logic-immo.be/fr/vente/appartement...  logic-immo.be      2970   \n",
       "2  https://www.logic-immo.be/fr/vente/appartement...  logic-immo.be      2970   \n",
       "3  https://www.logic-immo.be/fr/vente/appartement...  logic-immo.be      2970   \n",
       "4  https://www.logic-immo.be/fr/vente/appartement...  logic-immo.be      3200   \n",
       "\n",
       "  Type of property Subtype of property     Price  Type of sale  \\\n",
       "0        apartment                 NaN  319799.0  regular sale   \n",
       "1        apartment                 NaN  291999.0  regular sale   \n",
       "2        apartment                 NaN  764999.0  regular sale   \n",
       "3        apartment                 NaN  660264.0  regular sale   \n",
       "4        apartment                 NaN  294999.0  regular sale   \n",
       "\n",
       "   Number of rooms   Area  Fully equipped kitchen  ...  Terrace Area  Garden  \\\n",
       "0              1.0    NaN                     0.0  ...          11.0     0.0   \n",
       "1              1.0    NaN                     0.0  ...           6.0     0.0   \n",
       "2              2.0  153.0                     0.0  ...          62.0     0.0   \n",
       "3              3.0    NaN                     0.0  ...         160.0     0.0   \n",
       "4              2.0   80.0                     0.0  ...           NaN     0.0   \n",
       "\n",
       "   Garden Area  Surface of the land  Surface area of the plot of land  \\\n",
       "0          NaN                  NaN                               NaN   \n",
       "1          NaN                  NaN                               NaN   \n",
       "2          NaN                  NaN                               NaN   \n",
       "3          NaN                  NaN                               NaN   \n",
       "4          NaN                  NaN                               NaN   \n",
       "\n",
       "   Number of facades  Swimming pool  State of the building        Province  \\\n",
       "0                NaN            0.0                    NaN         Antwerp   \n",
       "1                NaN            0.0                    NaN         Antwerp   \n",
       "2                NaN            0.0                    NaN         Antwerp   \n",
       "3                NaN            0.0                    NaN         Antwerp   \n",
       "4                NaN            0.0                    NaN  Vlaams-Brabant   \n",
       "\n",
       "   Region  \n",
       "0  Vlaams  \n",
       "1  Vlaams  \n",
       "2  Vlaams  \n",
       "3  Vlaams  \n",
       "4  Vlaams  \n",
       "\n",
       "[5 rows x 23 columns]"
      ]
     },
     "execution_count": 3,
     "metadata": {},
     "output_type": "execute_result"
    }
   ],
   "source": [
    "#deleting Unnamed column\n",
    "df.drop(\"Unnamed: 0\", inplace=True, axis=1)\n",
    "df.head()"
   ]
  },
  {
   "cell_type": "code",
   "execution_count": 155,
   "metadata": {},
   "outputs": [
    {
     "data": {
      "text/html": [
       "<div>\n",
       "<style scoped>\n",
       "    .dataframe tbody tr th:only-of-type {\n",
       "        vertical-align: middle;\n",
       "    }\n",
       "\n",
       "    .dataframe tbody tr th {\n",
       "        vertical-align: top;\n",
       "    }\n",
       "\n",
       "    .dataframe thead th {\n",
       "        text-align: right;\n",
       "    }\n",
       "</style>\n",
       "<table border=\"1\" class=\"dataframe\">\n",
       "  <thead>\n",
       "    <tr style=\"text-align: right;\">\n",
       "      <th></th>\n",
       "      <th>unnamed:_0</th>\n",
       "      <th>url</th>\n",
       "      <th>source</th>\n",
       "      <th>locality</th>\n",
       "      <th>type_of_property</th>\n",
       "      <th>subtype_of_property</th>\n",
       "      <th>price</th>\n",
       "      <th>type_of_sale</th>\n",
       "      <th>number_of_rooms</th>\n",
       "      <th>area</th>\n",
       "      <th>...</th>\n",
       "      <th>terrace_area</th>\n",
       "      <th>garden</th>\n",
       "      <th>garden_area</th>\n",
       "      <th>surface_of_the_land</th>\n",
       "      <th>surface_area_of_the_plot_of_land</th>\n",
       "      <th>number_of_facades</th>\n",
       "      <th>swimming_pool</th>\n",
       "      <th>state_of_the_building</th>\n",
       "      <th>province</th>\n",
       "      <th>region</th>\n",
       "    </tr>\n",
       "  </thead>\n",
       "  <tbody>\n",
       "    <tr>\n",
       "      <th>0</th>\n",
       "      <td>0</td>\n",
       "      <td>https://www.logic-immo.be/fr/vente/appartement...</td>\n",
       "      <td>logic-immo.be</td>\n",
       "      <td>2970</td>\n",
       "      <td>apartment</td>\n",
       "      <td>NaN</td>\n",
       "      <td>319799.0</td>\n",
       "      <td>regular sale</td>\n",
       "      <td>1.0</td>\n",
       "      <td>NaN</td>\n",
       "      <td>...</td>\n",
       "      <td>11.0</td>\n",
       "      <td>0.0</td>\n",
       "      <td>NaN</td>\n",
       "      <td>NaN</td>\n",
       "      <td>NaN</td>\n",
       "      <td>NaN</td>\n",
       "      <td>0.0</td>\n",
       "      <td>NaN</td>\n",
       "      <td>Antwerp</td>\n",
       "      <td>Vlaams</td>\n",
       "    </tr>\n",
       "    <tr>\n",
       "      <th>1</th>\n",
       "      <td>1</td>\n",
       "      <td>https://www.logic-immo.be/fr/vente/appartement...</td>\n",
       "      <td>logic-immo.be</td>\n",
       "      <td>2970</td>\n",
       "      <td>apartment</td>\n",
       "      <td>NaN</td>\n",
       "      <td>291999.0</td>\n",
       "      <td>regular sale</td>\n",
       "      <td>1.0</td>\n",
       "      <td>NaN</td>\n",
       "      <td>...</td>\n",
       "      <td>6.0</td>\n",
       "      <td>0.0</td>\n",
       "      <td>NaN</td>\n",
       "      <td>NaN</td>\n",
       "      <td>NaN</td>\n",
       "      <td>NaN</td>\n",
       "      <td>0.0</td>\n",
       "      <td>NaN</td>\n",
       "      <td>Antwerp</td>\n",
       "      <td>Vlaams</td>\n",
       "    </tr>\n",
       "    <tr>\n",
       "      <th>2</th>\n",
       "      <td>2</td>\n",
       "      <td>https://www.logic-immo.be/fr/vente/appartement...</td>\n",
       "      <td>logic-immo.be</td>\n",
       "      <td>2970</td>\n",
       "      <td>apartment</td>\n",
       "      <td>NaN</td>\n",
       "      <td>764999.0</td>\n",
       "      <td>regular sale</td>\n",
       "      <td>2.0</td>\n",
       "      <td>153.0</td>\n",
       "      <td>...</td>\n",
       "      <td>62.0</td>\n",
       "      <td>0.0</td>\n",
       "      <td>NaN</td>\n",
       "      <td>NaN</td>\n",
       "      <td>NaN</td>\n",
       "      <td>NaN</td>\n",
       "      <td>0.0</td>\n",
       "      <td>NaN</td>\n",
       "      <td>Antwerp</td>\n",
       "      <td>Vlaams</td>\n",
       "    </tr>\n",
       "    <tr>\n",
       "      <th>3</th>\n",
       "      <td>3</td>\n",
       "      <td>https://www.logic-immo.be/fr/vente/appartement...</td>\n",
       "      <td>logic-immo.be</td>\n",
       "      <td>2970</td>\n",
       "      <td>apartment</td>\n",
       "      <td>NaN</td>\n",
       "      <td>660264.0</td>\n",
       "      <td>regular sale</td>\n",
       "      <td>3.0</td>\n",
       "      <td>NaN</td>\n",
       "      <td>...</td>\n",
       "      <td>160.0</td>\n",
       "      <td>0.0</td>\n",
       "      <td>NaN</td>\n",
       "      <td>NaN</td>\n",
       "      <td>NaN</td>\n",
       "      <td>NaN</td>\n",
       "      <td>0.0</td>\n",
       "      <td>NaN</td>\n",
       "      <td>Antwerp</td>\n",
       "      <td>Vlaams</td>\n",
       "    </tr>\n",
       "    <tr>\n",
       "      <th>4</th>\n",
       "      <td>4</td>\n",
       "      <td>https://www.logic-immo.be/fr/vente/appartement...</td>\n",
       "      <td>logic-immo.be</td>\n",
       "      <td>3200</td>\n",
       "      <td>apartment</td>\n",
       "      <td>NaN</td>\n",
       "      <td>294999.0</td>\n",
       "      <td>regular sale</td>\n",
       "      <td>2.0</td>\n",
       "      <td>80.0</td>\n",
       "      <td>...</td>\n",
       "      <td>NaN</td>\n",
       "      <td>0.0</td>\n",
       "      <td>NaN</td>\n",
       "      <td>NaN</td>\n",
       "      <td>NaN</td>\n",
       "      <td>NaN</td>\n",
       "      <td>0.0</td>\n",
       "      <td>NaN</td>\n",
       "      <td>Vlaams-Brabant</td>\n",
       "      <td>Vlaams</td>\n",
       "    </tr>\n",
       "  </tbody>\n",
       "</table>\n",
       "<p>5 rows × 24 columns</p>\n",
       "</div>"
      ],
      "text/plain": [
       "   unnamed:_0                                                url  \\\n",
       "0           0  https://www.logic-immo.be/fr/vente/appartement...   \n",
       "1           1  https://www.logic-immo.be/fr/vente/appartement...   \n",
       "2           2  https://www.logic-immo.be/fr/vente/appartement...   \n",
       "3           3  https://www.logic-immo.be/fr/vente/appartement...   \n",
       "4           4  https://www.logic-immo.be/fr/vente/appartement...   \n",
       "\n",
       "          source  locality type_of_property subtype_of_property     price  \\\n",
       "0  logic-immo.be      2970        apartment                 NaN  319799.0   \n",
       "1  logic-immo.be      2970        apartment                 NaN  291999.0   \n",
       "2  logic-immo.be      2970        apartment                 NaN  764999.0   \n",
       "3  logic-immo.be      2970        apartment                 NaN  660264.0   \n",
       "4  logic-immo.be      3200        apartment                 NaN  294999.0   \n",
       "\n",
       "   type_of_sale  number_of_rooms   area  ...  terrace_area  garden  \\\n",
       "0  regular sale              1.0    NaN  ...          11.0     0.0   \n",
       "1  regular sale              1.0    NaN  ...           6.0     0.0   \n",
       "2  regular sale              2.0  153.0  ...          62.0     0.0   \n",
       "3  regular sale              3.0    NaN  ...         160.0     0.0   \n",
       "4  regular sale              2.0   80.0  ...           NaN     0.0   \n",
       "\n",
       "   garden_area  surface_of_the_land  surface_area_of_the_plot_of_land  \\\n",
       "0          NaN                  NaN                               NaN   \n",
       "1          NaN                  NaN                               NaN   \n",
       "2          NaN                  NaN                               NaN   \n",
       "3          NaN                  NaN                               NaN   \n",
       "4          NaN                  NaN                               NaN   \n",
       "\n",
       "   number_of_facades  swimming_pool  state_of_the_building        province  \\\n",
       "0                NaN            0.0                    NaN         Antwerp   \n",
       "1                NaN            0.0                    NaN         Antwerp   \n",
       "2                NaN            0.0                    NaN         Antwerp   \n",
       "3                NaN            0.0                    NaN         Antwerp   \n",
       "4                NaN            0.0                    NaN  Vlaams-Brabant   \n",
       "\n",
       "   region  \n",
       "0  Vlaams  \n",
       "1  Vlaams  \n",
       "2  Vlaams  \n",
       "3  Vlaams  \n",
       "4  Vlaams  \n",
       "\n",
       "[5 rows x 24 columns]"
      ]
     },
     "execution_count": 155,
     "metadata": {},
     "output_type": "execute_result"
    }
   ],
   "source": [
    "old_col=(df.columns)\n",
    "new_col=[]\n",
    "# rename column in a pythonic way\n",
    "for item in old_col:\n",
    "    item =item.lower()\n",
    "    item= item.replace(' ','_')\n",
    "    new_col.append(item)\n",
    "\n",
    "df.columns=new_col\n",
    "df.head()"
   ]
  },
  {
   "cell_type": "markdown",
   "metadata": {},
   "source": [
    "## Remove duplicates"
   ]
  },
  {
   "cell_type": "code",
   "execution_count": 5,
   "metadata": {},
   "outputs": [
    {
     "name": "stdout",
     "output_type": "stream",
     "text": [
      "(73510, 23)\n"
     ]
    },
    {
     "data": {
      "text/plain": [
       "(73441, 23)"
      ]
     },
     "execution_count": 5,
     "metadata": {},
     "output_type": "execute_result"
    }
   ],
   "source": [
    "columns_restricted = ['locality', 'type_of_property', 'subtype_of_property',\n",
    "           'price', 'type_of_sale', 'number_of_rooms', 'area',\n",
    "           'fully_equipped_kitchen', 'furnished', 'open_fire', 'terrace',\n",
    "           'terrace_area', 'garden', 'garden_area', 'surface_of_the_land',\n",
    "           'surface_area_of_the_plot_of_land', 'number_of_facades',\n",
    "           'swimming_pool', 'state_of_the_building'] # columns name without url and source\n",
    "print(df.shape)\n",
    "df = df[~df[columns_restricted].duplicated()]  #delete rows that differ only by url and source\n",
    "df.index = list(range(len(df)))\n",
    "df.shape  "
   ]
  },
  {
   "cell_type": "code",
   "execution_count": 6,
   "metadata": {},
   "outputs": [],
   "source": [
    "value = (df['locality'] == df.loc[0, 'locality']) | df['locality'].isnull()\n",
    "duplicates_datas = []\n",
    "for i in range(20000):\n",
    "    value = (df['locality'] == df.loc[i, 'locality']) | df['locality'].isnull()\n",
    "    for col in columns_restricted:\n",
    "        value = value & ((df[col] == df.loc[i, col]) | df[col].isnull())\n",
    "    if len(df[value])>1:\n",
    "        duplicates_datas.append(df[value])\n",
    "        \n",
    "#each element of duplicates_data is a dataframe that contains rows that differ only by NaN values"
   ]
  },
  {
   "cell_type": "code",
   "execution_count": 7,
   "metadata": {
    "scrolled": true
   },
   "outputs": [
    {
     "name": "stdout",
     "output_type": "stream",
     "text": [
      "2981\n"
     ]
    },
    {
     "data": {
      "text/html": [
       "<div>\n",
       "<style scoped>\n",
       "    .dataframe tbody tr th:only-of-type {\n",
       "        vertical-align: middle;\n",
       "    }\n",
       "\n",
       "    .dataframe tbody tr th {\n",
       "        vertical-align: top;\n",
       "    }\n",
       "\n",
       "    .dataframe thead th {\n",
       "        text-align: right;\n",
       "    }\n",
       "</style>\n",
       "<table border=\"1\" class=\"dataframe\">\n",
       "  <thead>\n",
       "    <tr style=\"text-align: right;\">\n",
       "      <th></th>\n",
       "      <th>url</th>\n",
       "      <th>source</th>\n",
       "      <th>locality</th>\n",
       "      <th>type_of_property</th>\n",
       "      <th>subtype_of_property</th>\n",
       "      <th>price</th>\n",
       "      <th>type_of_sale</th>\n",
       "      <th>number_of_rooms</th>\n",
       "      <th>area</th>\n",
       "      <th>fully_equipped_kitchen</th>\n",
       "      <th>...</th>\n",
       "      <th>terrace_area</th>\n",
       "      <th>garden</th>\n",
       "      <th>garden_area</th>\n",
       "      <th>surface_of_the_land</th>\n",
       "      <th>surface_area_of_the_plot_of_land</th>\n",
       "      <th>number_of_facades</th>\n",
       "      <th>swimming_pool</th>\n",
       "      <th>state_of_the_building</th>\n",
       "      <th>province</th>\n",
       "      <th>region</th>\n",
       "    </tr>\n",
       "  </thead>\n",
       "  <tbody>\n",
       "    <tr>\n",
       "      <th>19981</th>\n",
       "      <td>https://www.immoweb.be/fr/annonce/immeuble-a-a...</td>\n",
       "      <td>immoweb</td>\n",
       "      <td>4000</td>\n",
       "      <td>house</td>\n",
       "      <td>building</td>\n",
       "      <td>235000.0</td>\n",
       "      <td>regular sale</td>\n",
       "      <td>4.0</td>\n",
       "      <td>159.0</td>\n",
       "      <td>0.0</td>\n",
       "      <td>...</td>\n",
       "      <td>NaN</td>\n",
       "      <td>0.0</td>\n",
       "      <td>NaN</td>\n",
       "      <td>187.0</td>\n",
       "      <td>187.0</td>\n",
       "      <td>2.0</td>\n",
       "      <td>0.0</td>\n",
       "      <td>to renovate</td>\n",
       "      <td>Liège</td>\n",
       "      <td>Wallonie</td>\n",
       "    </tr>\n",
       "    <tr>\n",
       "      <th>26473</th>\n",
       "      <td>https://www.immoweb.be/fr/annonce/maison/a-ven...</td>\n",
       "      <td>immoweb</td>\n",
       "      <td>4000</td>\n",
       "      <td>house</td>\n",
       "      <td>NaN</td>\n",
       "      <td>235000.0</td>\n",
       "      <td>regular sale</td>\n",
       "      <td>4.0</td>\n",
       "      <td>159.0</td>\n",
       "      <td>0.0</td>\n",
       "      <td>...</td>\n",
       "      <td>NaN</td>\n",
       "      <td>0.0</td>\n",
       "      <td>NaN</td>\n",
       "      <td>187.0</td>\n",
       "      <td>187.0</td>\n",
       "      <td>2.0</td>\n",
       "      <td>0.0</td>\n",
       "      <td>to renovate</td>\n",
       "      <td>Liège</td>\n",
       "      <td>Wallonie</td>\n",
       "    </tr>\n",
       "  </tbody>\n",
       "</table>\n",
       "<p>2 rows × 23 columns</p>\n",
       "</div>"
      ],
      "text/plain": [
       "                                                     url   source  locality  \\\n",
       "19981  https://www.immoweb.be/fr/annonce/immeuble-a-a...  immoweb      4000   \n",
       "26473  https://www.immoweb.be/fr/annonce/maison/a-ven...  immoweb      4000   \n",
       "\n",
       "      type_of_property subtype_of_property     price  type_of_sale  \\\n",
       "19981            house            building  235000.0  regular sale   \n",
       "26473            house                 NaN  235000.0  regular sale   \n",
       "\n",
       "       number_of_rooms   area  fully_equipped_kitchen  ...  terrace_area  \\\n",
       "19981              4.0  159.0                     0.0  ...           NaN   \n",
       "26473              4.0  159.0                     0.0  ...           NaN   \n",
       "\n",
       "       garden  garden_area  surface_of_the_land  \\\n",
       "19981     0.0          NaN                187.0   \n",
       "26473     0.0          NaN                187.0   \n",
       "\n",
       "       surface_area_of_the_plot_of_land  number_of_facades  swimming_pool  \\\n",
       "19981                             187.0                2.0            0.0   \n",
       "26473                             187.0                2.0            0.0   \n",
       "\n",
       "       state_of_the_building  province    region  \n",
       "19981            to renovate     Liège  Wallonie  \n",
       "26473            to renovate     Liège  Wallonie  \n",
       "\n",
       "[2 rows x 23 columns]"
      ]
     },
     "execution_count": 7,
     "metadata": {},
     "output_type": "execute_result"
    }
   ],
   "source": [
    "print(len(duplicates_datas))\n",
    "duplicates_datas[-1].head()"
   ]
  },
  {
   "cell_type": "code",
   "execution_count": 8,
   "metadata": {},
   "outputs": [
    {
     "data": {
      "text/plain": [
       "(69903, 23)"
      ]
     },
     "execution_count": 8,
     "metadata": {},
     "output_type": "execute_result"
    }
   ],
   "source": [
    "#drop all duplicates\n",
    "for duplicate in duplicates_datas:\n",
    "        for i in duplicate.index:\n",
    "            try:\n",
    "                df.drop(index=i, inplace=True)\n",
    "            except:\n",
    "                continue\n",
    "\n",
    "df.index = list(range(len(df)))  #reset index\n",
    "df.shape\n"
   ]
  },
  {
   "cell_type": "markdown",
   "metadata": {},
   "source": [
    "## First analysis"
   ]
  },
  {
   "cell_type": "code",
   "execution_count": 9,
   "metadata": {},
   "outputs": [
    {
     "data": {
      "text/plain": [
       "url                                  object\n",
       "source                               object\n",
       "locality                              int64\n",
       "type_of_property                     object\n",
       "subtype_of_property                  object\n",
       "price                               float64\n",
       "type_of_sale                         object\n",
       "number_of_rooms                     float64\n",
       "area                                float64\n",
       "fully_equipped_kitchen              float64\n",
       "furnished                           float64\n",
       "open_fire                           float64\n",
       "terrace                             float64\n",
       "terrace_area                        float64\n",
       "garden                              float64\n",
       "garden_area                         float64\n",
       "surface_of_the_land                 float64\n",
       "surface_area_of_the_plot_of_land    float64\n",
       "number_of_facades                   float64\n",
       "swimming_pool                       float64\n",
       "state_of_the_building                object\n",
       "province                             object\n",
       "region                               object\n",
       "dtype: object"
      ]
     },
     "execution_count": 9,
     "metadata": {},
     "output_type": "execute_result"
    }
   ],
   "source": [
    "df.dtypes"
   ]
  },
  {
   "cell_type": "code",
   "execution_count": 10,
   "metadata": {},
   "outputs": [
    {
     "data": {
      "text/plain": [
       "url                                  object\n",
       "source                               object\n",
       "locality                              Int64\n",
       "type_of_property                     object\n",
       "subtype_of_property                  object\n",
       "price                               float64\n",
       "type_of_sale                         object\n",
       "number_of_rooms                       Int64\n",
       "area                                float64\n",
       "fully_equipped_kitchen                Int64\n",
       "furnished                             Int64\n",
       "open_fire                             Int64\n",
       "terrace                               Int64\n",
       "terrace_area                        float64\n",
       "garden                                Int64\n",
       "garden_area                         float64\n",
       "surface_of_the_land                 float64\n",
       "surface_area_of_the_plot_of_land    float64\n",
       "number_of_facades                     Int64\n",
       "swimming_pool                         Int64\n",
       "state_of_the_building                object\n",
       "province                             object\n",
       "region                               object\n",
       "dtype: object"
      ]
     },
     "execution_count": 10,
     "metadata": {},
     "output_type": "execute_result"
    }
   ],
   "source": [
    "#changing numeric types:\n",
    "df=df.astype({'locality':'Int64', \n",
    "            'price':'float64', \n",
    "            'number_of_rooms':'Int64', \n",
    "            'area':'float64', \n",
    "            'fully_equipped_kitchen':'Int64', \n",
    "            'furnished':'Int64',\n",
    "            'open_fire':'Int64',\n",
    "            'terrace':'Int64',\n",
    "            'terrace_area':'float64',\n",
    "            'garden':'Int64',\n",
    "            'garden_area':'float64',\n",
    "            'surface_of_the_land':'float64',\n",
    "            'surface_area_of_the_plot_of_land':'float64',\n",
    "            'number_of_facades':'Int64',\n",
    "            'swimming_pool':'Int64',\n",
    "            })\n",
    "df.dtypes\n"
   ]
  },
  {
   "cell_type": "code",
   "execution_count": 11,
   "metadata": {},
   "outputs": [
    {
     "data": {
      "text/plain": [
       "Index(['url', 'source', 'locality', 'type_of_property', 'subtype_of_property',\n",
       "       'price', 'type_of_sale', 'number_of_rooms', 'area',\n",
       "       'fully_equipped_kitchen', 'furnished', 'open_fire', 'terrace',\n",
       "       'terrace_area', 'garden', 'garden_area', 'surface_of_the_land',\n",
       "       'surface_area_of_the_plot_of_land', 'number_of_facades',\n",
       "       'swimming_pool', 'state_of_the_building', 'province', 'region'],\n",
       "      dtype='object')"
      ]
     },
     "execution_count": 11,
     "metadata": {},
     "output_type": "execute_result"
    }
   ],
   "source": [
    "df.columns"
   ]
  },
  {
   "cell_type": "code",
   "execution_count": 12,
   "metadata": {},
   "outputs": [
    {
     "name": "stdout",
     "output_type": "stream",
     "text": [
      "url - 0%\n",
      "source - 0%\n",
      "locality - 0%\n",
      "type_of_property - 1%\n",
      "subtype_of_property - 80%\n",
      "price - 1%\n",
      "type_of_sale - 0%\n",
      "number_of_rooms - 1%\n",
      "area - 15%\n",
      "fully_equipped_kitchen - 0%\n",
      "furnished - 29%\n",
      "open_fire - 0%\n",
      "terrace - 0%\n",
      "terrace_area - 67%\n",
      "garden - 0%\n",
      "garden_area - 84%\n",
      "surface_of_the_land - 51%\n",
      "surface_area_of_the_plot_of_land - 51%\n",
      "number_of_facades - 49%\n",
      "swimming_pool - 0%\n",
      "state_of_the_building - 43%\n",
      "province - 0%\n",
      "region - 0%\n"
     ]
    }
   ],
   "source": [
    "# if it's a larger dataset and the visualization takes too long can do this.\n",
    "# % of missing.\n",
    "for col in df.columns:\n",
    "    pct_missing = np.mean(df[col].isnull())\n",
    "    print('{} - {}%'.format(col, round(pct_missing*100)))"
   ]
  },
  {
   "cell_type": "code",
   "execution_count": 13,
   "metadata": {},
   "outputs": [
    {
     "data": {
      "text/html": [
       "<div>\n",
       "<style scoped>\n",
       "    .dataframe tbody tr th:only-of-type {\n",
       "        vertical-align: middle;\n",
       "    }\n",
       "\n",
       "    .dataframe tbody tr th {\n",
       "        vertical-align: top;\n",
       "    }\n",
       "\n",
       "    .dataframe thead th {\n",
       "        text-align: right;\n",
       "    }\n",
       "</style>\n",
       "<table border=\"1\" class=\"dataframe\">\n",
       "  <thead>\n",
       "    <tr style=\"text-align: right;\">\n",
       "      <th></th>\n",
       "      <th>url</th>\n",
       "      <th>source</th>\n",
       "      <th>locality</th>\n",
       "      <th>type_of_property</th>\n",
       "      <th>subtype_of_property</th>\n",
       "      <th>price</th>\n",
       "      <th>type_of_sale</th>\n",
       "      <th>number_of_rooms</th>\n",
       "      <th>area</th>\n",
       "      <th>fully_equipped_kitchen</th>\n",
       "      <th>...</th>\n",
       "      <th>terrace_area</th>\n",
       "      <th>garden</th>\n",
       "      <th>garden_area</th>\n",
       "      <th>surface_of_the_land</th>\n",
       "      <th>surface_area_of_the_plot_of_land</th>\n",
       "      <th>number_of_facades</th>\n",
       "      <th>swimming_pool</th>\n",
       "      <th>state_of_the_building</th>\n",
       "      <th>province</th>\n",
       "      <th>region</th>\n",
       "    </tr>\n",
       "  </thead>\n",
       "  <tbody>\n",
       "    <tr>\n",
       "      <th>0</th>\n",
       "      <td>https://www.logic-immo.be/fr/vente/appartement...</td>\n",
       "      <td>logic-immo.be</td>\n",
       "      <td>2970</td>\n",
       "      <td>apartment</td>\n",
       "      <td>NaN</td>\n",
       "      <td>319799.0</td>\n",
       "      <td>regular sale</td>\n",
       "      <td>1</td>\n",
       "      <td>NaN</td>\n",
       "      <td>0</td>\n",
       "      <td>...</td>\n",
       "      <td>11.0</td>\n",
       "      <td>0</td>\n",
       "      <td>NaN</td>\n",
       "      <td>NaN</td>\n",
       "      <td>NaN</td>\n",
       "      <td>&lt;NA&gt;</td>\n",
       "      <td>0</td>\n",
       "      <td>NaN</td>\n",
       "      <td>Antwerp</td>\n",
       "      <td>Vlaams</td>\n",
       "    </tr>\n",
       "    <tr>\n",
       "      <th>1</th>\n",
       "      <td>https://www.logic-immo.be/fr/vente/appartement...</td>\n",
       "      <td>logic-immo.be</td>\n",
       "      <td>2970</td>\n",
       "      <td>apartment</td>\n",
       "      <td>NaN</td>\n",
       "      <td>291999.0</td>\n",
       "      <td>regular sale</td>\n",
       "      <td>1</td>\n",
       "      <td>NaN</td>\n",
       "      <td>0</td>\n",
       "      <td>...</td>\n",
       "      <td>6.0</td>\n",
       "      <td>0</td>\n",
       "      <td>NaN</td>\n",
       "      <td>NaN</td>\n",
       "      <td>NaN</td>\n",
       "      <td>&lt;NA&gt;</td>\n",
       "      <td>0</td>\n",
       "      <td>NaN</td>\n",
       "      <td>Antwerp</td>\n",
       "      <td>Vlaams</td>\n",
       "    </tr>\n",
       "    <tr>\n",
       "      <th>2</th>\n",
       "      <td>https://www.logic-immo.be/fr/vente/appartement...</td>\n",
       "      <td>logic-immo.be</td>\n",
       "      <td>2970</td>\n",
       "      <td>apartment</td>\n",
       "      <td>NaN</td>\n",
       "      <td>764999.0</td>\n",
       "      <td>regular sale</td>\n",
       "      <td>2</td>\n",
       "      <td>153.0</td>\n",
       "      <td>0</td>\n",
       "      <td>...</td>\n",
       "      <td>62.0</td>\n",
       "      <td>0</td>\n",
       "      <td>NaN</td>\n",
       "      <td>NaN</td>\n",
       "      <td>NaN</td>\n",
       "      <td>&lt;NA&gt;</td>\n",
       "      <td>0</td>\n",
       "      <td>NaN</td>\n",
       "      <td>Antwerp</td>\n",
       "      <td>Vlaams</td>\n",
       "    </tr>\n",
       "    <tr>\n",
       "      <th>3</th>\n",
       "      <td>https://www.logic-immo.be/fr/vente/appartement...</td>\n",
       "      <td>logic-immo.be</td>\n",
       "      <td>2970</td>\n",
       "      <td>apartment</td>\n",
       "      <td>NaN</td>\n",
       "      <td>660264.0</td>\n",
       "      <td>regular sale</td>\n",
       "      <td>3</td>\n",
       "      <td>NaN</td>\n",
       "      <td>0</td>\n",
       "      <td>...</td>\n",
       "      <td>160.0</td>\n",
       "      <td>0</td>\n",
       "      <td>NaN</td>\n",
       "      <td>NaN</td>\n",
       "      <td>NaN</td>\n",
       "      <td>&lt;NA&gt;</td>\n",
       "      <td>0</td>\n",
       "      <td>NaN</td>\n",
       "      <td>Antwerp</td>\n",
       "      <td>Vlaams</td>\n",
       "    </tr>\n",
       "    <tr>\n",
       "      <th>4</th>\n",
       "      <td>https://www.logic-immo.be/fr/vente/appartement...</td>\n",
       "      <td>logic-immo.be</td>\n",
       "      <td>3200</td>\n",
       "      <td>apartment</td>\n",
       "      <td>NaN</td>\n",
       "      <td>294999.0</td>\n",
       "      <td>regular sale</td>\n",
       "      <td>2</td>\n",
       "      <td>80.0</td>\n",
       "      <td>0</td>\n",
       "      <td>...</td>\n",
       "      <td>NaN</td>\n",
       "      <td>0</td>\n",
       "      <td>NaN</td>\n",
       "      <td>NaN</td>\n",
       "      <td>NaN</td>\n",
       "      <td>&lt;NA&gt;</td>\n",
       "      <td>0</td>\n",
       "      <td>NaN</td>\n",
       "      <td>Vlaams-Brabant</td>\n",
       "      <td>Vlaams</td>\n",
       "    </tr>\n",
       "  </tbody>\n",
       "</table>\n",
       "<p>5 rows × 23 columns</p>\n",
       "</div>"
      ],
      "text/plain": [
       "                                                 url         source  locality  \\\n",
       "0  https://www.logic-immo.be/fr/vente/appartement...  logic-immo.be      2970   \n",
       "1  https://www.logic-immo.be/fr/vente/appartement...  logic-immo.be      2970   \n",
       "2  https://www.logic-immo.be/fr/vente/appartement...  logic-immo.be      2970   \n",
       "3  https://www.logic-immo.be/fr/vente/appartement...  logic-immo.be      2970   \n",
       "4  https://www.logic-immo.be/fr/vente/appartement...  logic-immo.be      3200   \n",
       "\n",
       "  type_of_property subtype_of_property     price  type_of_sale  \\\n",
       "0        apartment                 NaN  319799.0  regular sale   \n",
       "1        apartment                 NaN  291999.0  regular sale   \n",
       "2        apartment                 NaN  764999.0  regular sale   \n",
       "3        apartment                 NaN  660264.0  regular sale   \n",
       "4        apartment                 NaN  294999.0  regular sale   \n",
       "\n",
       "   number_of_rooms   area  fully_equipped_kitchen  ...  terrace_area  garden  \\\n",
       "0                1    NaN                       0  ...          11.0       0   \n",
       "1                1    NaN                       0  ...           6.0       0   \n",
       "2                2  153.0                       0  ...          62.0       0   \n",
       "3                3    NaN                       0  ...         160.0       0   \n",
       "4                2   80.0                       0  ...           NaN       0   \n",
       "\n",
       "   garden_area  surface_of_the_land  surface_area_of_the_plot_of_land  \\\n",
       "0          NaN                  NaN                               NaN   \n",
       "1          NaN                  NaN                               NaN   \n",
       "2          NaN                  NaN                               NaN   \n",
       "3          NaN                  NaN                               NaN   \n",
       "4          NaN                  NaN                               NaN   \n",
       "\n",
       "   number_of_facades  swimming_pool  state_of_the_building        province  \\\n",
       "0               <NA>              0                    NaN         Antwerp   \n",
       "1               <NA>              0                    NaN         Antwerp   \n",
       "2               <NA>              0                    NaN         Antwerp   \n",
       "3               <NA>              0                    NaN         Antwerp   \n",
       "4               <NA>              0                    NaN  Vlaams-Brabant   \n",
       "\n",
       "   region  \n",
       "0  Vlaams  \n",
       "1  Vlaams  \n",
       "2  Vlaams  \n",
       "3  Vlaams  \n",
       "4  Vlaams  \n",
       "\n",
       "[5 rows x 23 columns]"
      ]
     },
     "execution_count": 13,
     "metadata": {},
     "output_type": "execute_result"
    }
   ],
   "source": [
    "#we drop rows where price is nan:\n",
    "df = df[~df['price'].isnull()]\n",
    "df.index = list(range(len(df)))\n",
    "df.head()"
   ]
  },
  {
   "cell_type": "markdown",
   "metadata": {},
   "source": [
    "## Analysis of Categorical columns:"
   ]
  },
  {
   "cell_type": "code",
   "execution_count": 14,
   "metadata": {},
   "outputs": [
    {
     "data": {
      "text/plain": [
       "<AxesSubplot:>"
      ]
     },
     "execution_count": 14,
     "metadata": {},
     "output_type": "execute_result"
    },
    {
     "data": {
      "image/png": "[encoded data removed]",
      "text/plain": [
       "<Figure size 864x576 with 1 Axes>"
      ]
     },
     "metadata": {},
     "output_type": "display_data"
    }
   ],
   "source": [
    "# bar chart -  distribution of a categorical variable\n",
    "df['source'].value_counts().plot.bar()"
   ]
  },
  {
   "cell_type": "code",
   "execution_count": 15,
   "metadata": {},
   "outputs": [
    {
     "data": {
      "text/plain": [
       "<AxesSubplot:>"
      ]
     },
     "execution_count": 15,
     "metadata": {},
     "output_type": "execute_result"
    },
    {
     "data": {
      "image/png": "[encoded data removed]",
      "text/plain": [
       "<Figure size 864x576 with 1 Axes>"
      ]
     },
     "metadata": {},
     "output_type": "display_data"
    }
   ],
   "source": [
    "# bar chart -  distribution of a categorical variable\n",
    "df['type_of_property'].value_counts().plot.bar()"
   ]
  },
  {
   "cell_type": "code",
   "execution_count": 16,
   "metadata": {},
   "outputs": [
    {
     "data": {
      "text/plain": [
       "<AxesSubplot:>"
      ]
     },
     "execution_count": 16,
     "metadata": {},
     "output_type": "execute_result"
    },
    {
     "data": {
      "image/png": "[encoded data removed]",
      "text/plain": [
       "<Figure size 864x576 with 1 Axes>"
      ]
     },
     "metadata": {},
     "output_type": "display_data"
    }
   ],
   "source": [
    "# bar chart -  distribution of a categorical variable (not including nan values)\n",
    "df['subtype_of_property'].value_counts().plot.bar()"
   ]
  },
  {
   "cell_type": "code",
   "execution_count": 17,
   "metadata": {},
   "outputs": [
    {
     "data": {
      "text/plain": [
       "<AxesSubplot:>"
      ]
     },
     "execution_count": 17,
     "metadata": {},
     "output_type": "execute_result"
    },
    {
     "data": {
      "image/png": "[encoded data removed]",
      "text/plain": [
       "<Figure size 864x576 with 1 Axes>"
      ]
     },
     "metadata": {},
     "output_type": "display_data"
    }
   ],
   "source": [
    "# bar chart -  distribution of a categorical variable\n",
    "df[\"type_of_sale\"].value_counts().plot.bar()"
   ]
  },
  {
   "cell_type": "code",
   "execution_count": 18,
   "metadata": {},
   "outputs": [
    {
     "data": {
      "text/plain": [
       "<AxesSubplot:>"
      ]
     },
     "execution_count": 18,
     "metadata": {},
     "output_type": "execute_result"
    },
    {
     "data": {
      "image/png": "[encoded data removed]",
      "text/plain": [
       "<Figure size 864x576 with 1 Axes>"
      ]
     },
     "metadata": {},
     "output_type": "display_data"
    }
   ],
   "source": [
    "# bar chart -  distribution of a categorical variable\n",
    "df['state_of_the_building'].value_counts().plot.bar()"
   ]
  },
  {
   "cell_type": "code",
   "execution_count": 19,
   "metadata": {},
   "outputs": [
    {
     "data": {
      "text/plain": [
       "<AxesSubplot:>"
      ]
     },
     "execution_count": 19,
     "metadata": {},
     "output_type": "execute_result"
    },
    {
     "data": {
      "image/png": "[encoded data removed]",
      "text/plain": [
       "<Figure size 864x576 with 1 Axes>"
      ]
     },
     "metadata": {},
     "output_type": "display_data"
    }
   ],
   "source": [
    "df['fully_equipped_kitchen'].value_counts().plot.bar()"
   ]
  },
  {
   "cell_type": "code",
   "execution_count": 20,
   "metadata": {},
   "outputs": [
    {
     "data": {
      "text/plain": [
       "<AxesSubplot:>"
      ]
     },
     "execution_count": 20,
     "metadata": {},
     "output_type": "execute_result"
    },
    {
     "data": {
      "image/png": "[encoded data removed]",
      "text/plain": [
       "<Figure size 864x576 with 1 Axes>"
      ]
     },
     "metadata": {},
     "output_type": "display_data"
    }
   ],
   "source": [
    "df['open_fire'].value_counts().plot.bar()"
   ]
  },
  {
   "cell_type": "code",
   "execution_count": 21,
   "metadata": {},
   "outputs": [
    {
     "data": {
      "text/plain": [
       "<AxesSubplot:>"
      ]
     },
     "execution_count": 21,
     "metadata": {},
     "output_type": "execute_result"
    },
    {
     "data": {
      "image/png": "[encoded data removed]",
      "text/plain": [
       "<Figure size 864x576 with 1 Axes>"
      ]
     },
     "metadata": {},
     "output_type": "display_data"
    }
   ],
   "source": [
    "df['furnished'].value_counts().plot.bar()"
   ]
  },
  {
   "cell_type": "code",
   "execution_count": 22,
   "metadata": {},
   "outputs": [
    {
     "data": {
      "text/plain": [
       "<AxesSubplot:>"
      ]
     },
     "execution_count": 22,
     "metadata": {},
     "output_type": "execute_result"
    },
    {
     "data": {
      "image/png": "[encoded data removed]",
      "text/plain": [
       "<Figure size 864x576 with 1 Axes>"
      ]
     },
     "metadata": {},
     "output_type": "display_data"
    }
   ],
   "source": [
    "df['swimming_pool'].value_counts().plot.bar()"
   ]
  },
  {
   "cell_type": "code",
   "execution_count": 23,
   "metadata": {},
   "outputs": [
    {
     "data": {
      "text/plain": [
       "<AxesSubplot:>"
      ]
     },
     "execution_count": 23,
     "metadata": {},
     "output_type": "execute_result"
    },
    {
     "data": {
      "image/png": "[encoded data removed]",
      "text/plain": [
       "<Figure size 864x576 with 1 Axes>"
      ]
     },
     "metadata": {},
     "output_type": "display_data"
    }
   ],
   "source": [
    "df['garden'].value_counts().plot.bar()"
   ]
  },
  {
   "cell_type": "code",
   "execution_count": 24,
   "metadata": {},
   "outputs": [
    {
     "data": {
      "text/plain": [
       "<AxesSubplot:>"
      ]
     },
     "execution_count": 24,
     "metadata": {},
     "output_type": "execute_result"
    },
    {
     "data": {
      "image/png": "[encoded data removed]",
      "text/plain": [
       "<Figure size 864x576 with 1 Axes>"
      ]
     },
     "metadata": {},
     "output_type": "display_data"
    }
   ],
   "source": [
    "df['terrace'].value_counts().plot.bar()"
   ]
  },
  {
   "cell_type": "markdown",
   "metadata": {},
   "source": [
    "## Analysis of Numerical columns"
   ]
  },
  {
   "cell_type": "markdown",
   "metadata": {},
   "source": [
    "### price"
   ]
  },
  {
   "cell_type": "code",
   "execution_count": 25,
   "metadata": {},
   "outputs": [
    {
     "data": {
      "text/plain": [
       "<AxesSubplot:>"
      ]
     },
     "execution_count": 25,
     "metadata": {},
     "output_type": "execute_result"
    },
    {
     "data": {
      "image/png": "[encoded data removed]",
      "text/plain": [
       "<Figure size 864x576 with 1 Axes>"
      ]
     },
     "metadata": {},
     "output_type": "display_data"
    }
   ],
   "source": [
    "df.boxplot(column=['price'])"
   ]
  },
  {
   "cell_type": "markdown",
   "metadata": {},
   "source": [
    "### Number of rooms"
   ]
  },
  {
   "cell_type": "code",
   "execution_count": 26,
   "metadata": {},
   "outputs": [
    {
     "data": {
      "text/plain": [
       "<AxesSubplot:>"
      ]
     },
     "execution_count": 26,
     "metadata": {},
     "output_type": "execute_result"
    },
    {
     "data": {
      "image/png": "[encoded data removed]",
      "text/plain": [
       "<Figure size 864x576 with 1 Axes>"
      ]
     },
     "metadata": {},
     "output_type": "display_data"
    }
   ],
   "source": [
    "df.boxplot(column=['number_of_rooms'])"
   ]
  },
  {
   "cell_type": "markdown",
   "metadata": {},
   "source": [
    "### Area"
   ]
  },
  {
   "cell_type": "code",
   "execution_count": 27,
   "metadata": {},
   "outputs": [
    {
     "data": {
      "text/plain": [
       "<AxesSubplot:>"
      ]
     },
     "execution_count": 27,
     "metadata": {},
     "output_type": "execute_result"
    },
    {
     "data": {
      "image/png": "[encoded data removed]",
      "text/plain": [
       "<Figure size 864x576 with 1 Axes>"
      ]
     },
     "metadata": {},
     "output_type": "display_data"
    }
   ],
   "source": [
    "df.boxplot(column=['area'])"
   ]
  },
  {
   "cell_type": "markdown",
   "metadata": {},
   "source": [
    "### Terrace Area"
   ]
  },
  {
   "cell_type": "code",
   "execution_count": 28,
   "metadata": {},
   "outputs": [
    {
     "data": {
      "text/plain": [
       "<AxesSubplot:>"
      ]
     },
     "execution_count": 28,
     "metadata": {},
     "output_type": "execute_result"
    },
    {
     "data": {
      "image/png": "[encoded data removed]",
      "text/plain": [
       "<Figure size 864x576 with 1 Axes>"
      ]
     },
     "metadata": {},
     "output_type": "display_data"
    }
   ],
   "source": [
    "df.boxplot(column=['terrace_area'])"
   ]
  },
  {
   "cell_type": "markdown",
   "metadata": {},
   "source": [
    "### Garden Area"
   ]
  },
  {
   "cell_type": "code",
   "execution_count": 29,
   "metadata": {},
   "outputs": [
    {
     "data": {
      "text/plain": [
       "<AxesSubplot:>"
      ]
     },
     "execution_count": 29,
     "metadata": {},
     "output_type": "execute_result"
    },
    {
     "data": {
      "image/png": "[encoded data removed]",
      "text/plain": [
       "<Figure size 864x576 with 1 Axes>"
      ]
     },
     "metadata": {},
     "output_type": "display_data"
    }
   ],
   "source": [
    "df.boxplot(column=['garden_area'])"
   ]
  },
  {
   "cell_type": "markdown",
   "metadata": {},
   "source": [
    "### Surface of the land"
   ]
  },
  {
   "cell_type": "code",
   "execution_count": 30,
   "metadata": {},
   "outputs": [
    {
     "data": {
      "text/plain": [
       "<AxesSubplot:>"
      ]
     },
     "execution_count": 30,
     "metadata": {},
     "output_type": "execute_result"
    },
    {
     "data": {
      "image/png": "[encoded data removed]",
      "text/plain": [
       "<Figure size 864x576 with 1 Axes>"
      ]
     },
     "metadata": {},
     "output_type": "display_data"
    }
   ],
   "source": [
    "df.boxplot(column=['surface_of_the_land'])"
   ]
  },
  {
   "cell_type": "markdown",
   "metadata": {},
   "source": [
    "### Surface area of the plot of land"
   ]
  },
  {
   "cell_type": "code",
   "execution_count": 31,
   "metadata": {},
   "outputs": [
    {
     "data": {
      "text/plain": [
       "<AxesSubplot:>"
      ]
     },
     "execution_count": 31,
     "metadata": {},
     "output_type": "execute_result"
    },
    {
     "data": {
      "image/png": "[encoded data removed]",
      "text/plain": [
       "<Figure size 864x576 with 1 Axes>"
      ]
     },
     "metadata": {},
     "output_type": "display_data"
    }
   ],
   "source": [
    "df.boxplot(column=['surface_area_of_the_plot_of_land'])"
   ]
  },
  {
   "cell_type": "markdown",
   "metadata": {},
   "source": [
    "### Number of facade"
   ]
  },
  {
   "cell_type": "code",
   "execution_count": 32,
   "metadata": {},
   "outputs": [
    {
     "data": {
      "text/plain": [
       "<AxesSubplot:>"
      ]
     },
     "execution_count": 32,
     "metadata": {},
     "output_type": "execute_result"
    },
    {
     "data": {
      "image/png": "[encoded data removed]",
      "text/plain": [
       "<Figure size 864x576 with 1 Axes>"
      ]
     },
     "metadata": {},
     "output_type": "display_data"
    }
   ],
   "source": [
    "df.boxplot(column=['number_of_facades'])"
   ]
  },
  {
   "cell_type": "code",
   "execution_count": 33,
   "metadata": {},
   "outputs": [],
   "source": [
    "#we drop url and source columns and move price as first columns:\n",
    "df.drop(columns =['source', 'url'], inplace=True)\n",
    "prices = df.pop('price')\n",
    "df.insert(0, 'price', prices)"
   ]
  },
  {
   "cell_type": "code",
   "execution_count": 34,
   "metadata": {},
   "outputs": [
    {
     "data": {
      "text/html": [
       "<div>\n",
       "<style scoped>\n",
       "    .dataframe tbody tr th:only-of-type {\n",
       "        vertical-align: middle;\n",
       "    }\n",
       "\n",
       "    .dataframe tbody tr th {\n",
       "        vertical-align: top;\n",
       "    }\n",
       "\n",
       "    .dataframe thead th {\n",
       "        text-align: right;\n",
       "    }\n",
       "</style>\n",
       "<table border=\"1\" class=\"dataframe\">\n",
       "  <thead>\n",
       "    <tr style=\"text-align: right;\">\n",
       "      <th></th>\n",
       "      <th>price</th>\n",
       "      <th>locality</th>\n",
       "      <th>type_of_property</th>\n",
       "      <th>subtype_of_property</th>\n",
       "      <th>type_of_sale</th>\n",
       "      <th>number_of_rooms</th>\n",
       "      <th>area</th>\n",
       "      <th>fully_equipped_kitchen</th>\n",
       "      <th>furnished</th>\n",
       "      <th>open_fire</th>\n",
       "      <th>...</th>\n",
       "      <th>terrace_area</th>\n",
       "      <th>garden</th>\n",
       "      <th>garden_area</th>\n",
       "      <th>surface_of_the_land</th>\n",
       "      <th>surface_area_of_the_plot_of_land</th>\n",
       "      <th>number_of_facades</th>\n",
       "      <th>swimming_pool</th>\n",
       "      <th>state_of_the_building</th>\n",
       "      <th>province</th>\n",
       "      <th>region</th>\n",
       "    </tr>\n",
       "  </thead>\n",
       "  <tbody>\n",
       "    <tr>\n",
       "      <th>0</th>\n",
       "      <td>319799.0</td>\n",
       "      <td>2970</td>\n",
       "      <td>apartment</td>\n",
       "      <td>NaN</td>\n",
       "      <td>regular sale</td>\n",
       "      <td>1</td>\n",
       "      <td>NaN</td>\n",
       "      <td>0</td>\n",
       "      <td>0</td>\n",
       "      <td>0</td>\n",
       "      <td>...</td>\n",
       "      <td>11.0</td>\n",
       "      <td>0</td>\n",
       "      <td>NaN</td>\n",
       "      <td>NaN</td>\n",
       "      <td>NaN</td>\n",
       "      <td>&lt;NA&gt;</td>\n",
       "      <td>0</td>\n",
       "      <td>NaN</td>\n",
       "      <td>Antwerp</td>\n",
       "      <td>Vlaams</td>\n",
       "    </tr>\n",
       "    <tr>\n",
       "      <th>1</th>\n",
       "      <td>291999.0</td>\n",
       "      <td>2970</td>\n",
       "      <td>apartment</td>\n",
       "      <td>NaN</td>\n",
       "      <td>regular sale</td>\n",
       "      <td>1</td>\n",
       "      <td>NaN</td>\n",
       "      <td>0</td>\n",
       "      <td>0</td>\n",
       "      <td>0</td>\n",
       "      <td>...</td>\n",
       "      <td>6.0</td>\n",
       "      <td>0</td>\n",
       "      <td>NaN</td>\n",
       "      <td>NaN</td>\n",
       "      <td>NaN</td>\n",
       "      <td>&lt;NA&gt;</td>\n",
       "      <td>0</td>\n",
       "      <td>NaN</td>\n",
       "      <td>Antwerp</td>\n",
       "      <td>Vlaams</td>\n",
       "    </tr>\n",
       "    <tr>\n",
       "      <th>2</th>\n",
       "      <td>764999.0</td>\n",
       "      <td>2970</td>\n",
       "      <td>apartment</td>\n",
       "      <td>NaN</td>\n",
       "      <td>regular sale</td>\n",
       "      <td>2</td>\n",
       "      <td>153.0</td>\n",
       "      <td>0</td>\n",
       "      <td>0</td>\n",
       "      <td>0</td>\n",
       "      <td>...</td>\n",
       "      <td>62.0</td>\n",
       "      <td>0</td>\n",
       "      <td>NaN</td>\n",
       "      <td>NaN</td>\n",
       "      <td>NaN</td>\n",
       "      <td>&lt;NA&gt;</td>\n",
       "      <td>0</td>\n",
       "      <td>NaN</td>\n",
       "      <td>Antwerp</td>\n",
       "      <td>Vlaams</td>\n",
       "    </tr>\n",
       "    <tr>\n",
       "      <th>3</th>\n",
       "      <td>660264.0</td>\n",
       "      <td>2970</td>\n",
       "      <td>apartment</td>\n",
       "      <td>NaN</td>\n",
       "      <td>regular sale</td>\n",
       "      <td>3</td>\n",
       "      <td>NaN</td>\n",
       "      <td>0</td>\n",
       "      <td>0</td>\n",
       "      <td>0</td>\n",
       "      <td>...</td>\n",
       "      <td>160.0</td>\n",
       "      <td>0</td>\n",
       "      <td>NaN</td>\n",
       "      <td>NaN</td>\n",
       "      <td>NaN</td>\n",
       "      <td>&lt;NA&gt;</td>\n",
       "      <td>0</td>\n",
       "      <td>NaN</td>\n",
       "      <td>Antwerp</td>\n",
       "      <td>Vlaams</td>\n",
       "    </tr>\n",
       "    <tr>\n",
       "      <th>4</th>\n",
       "      <td>294999.0</td>\n",
       "      <td>3200</td>\n",
       "      <td>apartment</td>\n",
       "      <td>NaN</td>\n",
       "      <td>regular sale</td>\n",
       "      <td>2</td>\n",
       "      <td>80.0</td>\n",
       "      <td>0</td>\n",
       "      <td>0</td>\n",
       "      <td>0</td>\n",
       "      <td>...</td>\n",
       "      <td>NaN</td>\n",
       "      <td>0</td>\n",
       "      <td>NaN</td>\n",
       "      <td>NaN</td>\n",
       "      <td>NaN</td>\n",
       "      <td>&lt;NA&gt;</td>\n",
       "      <td>0</td>\n",
       "      <td>NaN</td>\n",
       "      <td>Vlaams-Brabant</td>\n",
       "      <td>Vlaams</td>\n",
       "    </tr>\n",
       "  </tbody>\n",
       "</table>\n",
       "<p>5 rows × 21 columns</p>\n",
       "</div>"
      ],
      "text/plain": [
       "      price  locality type_of_property subtype_of_property  type_of_sale  \\\n",
       "0  319799.0      2970        apartment                 NaN  regular sale   \n",
       "1  291999.0      2970        apartment                 NaN  regular sale   \n",
       "2  764999.0      2970        apartment                 NaN  regular sale   \n",
       "3  660264.0      2970        apartment                 NaN  regular sale   \n",
       "4  294999.0      3200        apartment                 NaN  regular sale   \n",
       "\n",
       "   number_of_rooms   area  fully_equipped_kitchen  furnished  open_fire  ...  \\\n",
       "0                1    NaN                       0          0          0  ...   \n",
       "1                1    NaN                       0          0          0  ...   \n",
       "2                2  153.0                       0          0          0  ...   \n",
       "3                3    NaN                       0          0          0  ...   \n",
       "4                2   80.0                       0          0          0  ...   \n",
       "\n",
       "   terrace_area  garden  garden_area  surface_of_the_land  \\\n",
       "0          11.0       0          NaN                  NaN   \n",
       "1           6.0       0          NaN                  NaN   \n",
       "2          62.0       0          NaN                  NaN   \n",
       "3         160.0       0          NaN                  NaN   \n",
       "4           NaN       0          NaN                  NaN   \n",
       "\n",
       "   surface_area_of_the_plot_of_land  number_of_facades  swimming_pool  \\\n",
       "0                               NaN               <NA>              0   \n",
       "1                               NaN               <NA>              0   \n",
       "2                               NaN               <NA>              0   \n",
       "3                               NaN               <NA>              0   \n",
       "4                               NaN               <NA>              0   \n",
       "\n",
       "   state_of_the_building        province  region  \n",
       "0                    NaN         Antwerp  Vlaams  \n",
       "1                    NaN         Antwerp  Vlaams  \n",
       "2                    NaN         Antwerp  Vlaams  \n",
       "3                    NaN         Antwerp  Vlaams  \n",
       "4                    NaN  Vlaams-Brabant  Vlaams  \n",
       "\n",
       "[5 rows x 21 columns]"
      ]
     },
     "execution_count": 34,
     "metadata": {},
     "output_type": "execute_result"
    }
   ],
   "source": [
    "df.head()"
   ]
  },
  {
   "cell_type": "markdown",
   "metadata": {},
   "source": [
    "# Removing Numerical features Outliers"
   ]
  },
  {
   "cell_type": "code",
   "execution_count": 143,
   "metadata": {},
   "outputs": [
    {
     "data": {
      "text/html": [
       "<div>\n",
       "<style scoped>\n",
       "    .dataframe tbody tr th:only-of-type {\n",
       "        vertical-align: middle;\n",
       "    }\n",
       "\n",
       "    .dataframe tbody tr th {\n",
       "        vertical-align: top;\n",
       "    }\n",
       "\n",
       "    .dataframe thead th {\n",
       "        text-align: right;\n",
       "    }\n",
       "</style>\n",
       "<table border=\"1\" class=\"dataframe\">\n",
       "  <thead>\n",
       "    <tr style=\"text-align: right;\">\n",
       "      <th></th>\n",
       "      <th>price</th>\n",
       "      <th>number_of_rooms</th>\n",
       "      <th>area</th>\n",
       "      <th>terrace_area</th>\n",
       "      <th>garden_area</th>\n",
       "      <th>surface_of_the_land</th>\n",
       "      <th>number_of_facades</th>\n",
       "    </tr>\n",
       "  </thead>\n",
       "  <tbody>\n",
       "    <tr>\n",
       "      <th>0</th>\n",
       "      <td>319799.0</td>\n",
       "      <td>1</td>\n",
       "      <td>NaN</td>\n",
       "      <td>11.0</td>\n",
       "      <td>NaN</td>\n",
       "      <td>NaN</td>\n",
       "      <td>&lt;NA&gt;</td>\n",
       "    </tr>\n",
       "    <tr>\n",
       "      <th>1</th>\n",
       "      <td>291999.0</td>\n",
       "      <td>1</td>\n",
       "      <td>NaN</td>\n",
       "      <td>6.0</td>\n",
       "      <td>NaN</td>\n",
       "      <td>NaN</td>\n",
       "      <td>&lt;NA&gt;</td>\n",
       "    </tr>\n",
       "    <tr>\n",
       "      <th>2</th>\n",
       "      <td>764999.0</td>\n",
       "      <td>2</td>\n",
       "      <td>153.0</td>\n",
       "      <td>62.0</td>\n",
       "      <td>NaN</td>\n",
       "      <td>NaN</td>\n",
       "      <td>&lt;NA&gt;</td>\n",
       "    </tr>\n",
       "    <tr>\n",
       "      <th>3</th>\n",
       "      <td>660264.0</td>\n",
       "      <td>3</td>\n",
       "      <td>NaN</td>\n",
       "      <td>160.0</td>\n",
       "      <td>NaN</td>\n",
       "      <td>NaN</td>\n",
       "      <td>&lt;NA&gt;</td>\n",
       "    </tr>\n",
       "    <tr>\n",
       "      <th>4</th>\n",
       "      <td>294999.0</td>\n",
       "      <td>2</td>\n",
       "      <td>80.0</td>\n",
       "      <td>NaN</td>\n",
       "      <td>NaN</td>\n",
       "      <td>NaN</td>\n",
       "      <td>&lt;NA&gt;</td>\n",
       "    </tr>\n",
       "  </tbody>\n",
       "</table>\n",
       "</div>"
      ],
      "text/plain": [
       "      price  number_of_rooms   area  terrace_area  garden_area  \\\n",
       "0  319799.0                1    NaN          11.0          NaN   \n",
       "1  291999.0                1    NaN           6.0          NaN   \n",
       "2  764999.0                2  153.0          62.0          NaN   \n",
       "3  660264.0                3    NaN         160.0          NaN   \n",
       "4  294999.0                2   80.0           NaN          NaN   \n",
       "\n",
       "   surface_of_the_land  number_of_facades  \n",
       "0                  NaN               <NA>  \n",
       "1                  NaN               <NA>  \n",
       "2                  NaN               <NA>  \n",
       "3                  NaN               <NA>  \n",
       "4                  NaN               <NA>  "
      ]
     },
     "execution_count": 143,
     "metadata": {},
     "output_type": "execute_result"
    }
   ],
   "source": [
    "# Subset numerical data to remove outliers\n",
    "df_outliers = df[['price', 'number_of_rooms', 'area', 'terrace_area', 'garden_area', 'surface_of_the_land', 'number_of_facades']]\n",
    "df_outliers.head()"
   ]
  },
  {
   "cell_type": "markdown",
   "metadata": {},
   "source": [
    "### Price"
   ]
  },
  {
   "cell_type": "code",
   "execution_count": 144,
   "metadata": {},
   "outputs": [
    {
     "data": {
      "text/plain": [
       "<AxesSubplot:>"
      ]
     },
     "execution_count": 144,
     "metadata": {},
     "output_type": "execute_result"
    },
    {
     "data": {
      "image/png": "[encoded data removed]",
      "text/plain": [
       "<Figure size 864x576 with 1 Axes>"
      ]
     },
     "metadata": {},
     "output_type": "display_data"
    }
   ],
   "source": [
    "# to remove lower and upper outliers of Price based on quantile\n",
    "q_low = df_outliers['price'].quantile(0.01)\n",
    "q_hi  = df_outliers['price'].quantile(0.99)\n",
    "\n",
    "df_filtered = df_outliers[(df_outliers['price'] < q_hi) & (df_outliers['price'] > q_low)]\n",
    "# box plot.\n",
    "df_filtered.boxplot(column=['price'])"
   ]
  },
  {
   "cell_type": "markdown",
   "metadata": {},
   "source": [
    "### Number of rooms"
   ]
  },
  {
   "cell_type": "code",
   "execution_count": 145,
   "metadata": {},
   "outputs": [
    {
     "data": {
      "text/plain": [
       "<AxesSubplot:>"
      ]
     },
     "execution_count": 145,
     "metadata": {},
     "output_type": "execute_result"
    },
    {
     "data": {
      "image/png": "[encoded data removed]",
      "text/plain": [
       "<Figure size 864x576 with 1 Axes>"
      ]
     },
     "metadata": {},
     "output_type": "display_data"
    }
   ],
   "source": [
    "# to remove lower and upper outliers of 'Number of rooms'\n",
    "q_low = df_outliers['number_of_rooms'].quantile(0.01)\n",
    "q_hi  = df_outliers['number_of_rooms'].quantile(0.99)\n",
    "\n",
    "df_filtered = df_outliers[(df_outliers['number_of_rooms'] < q_hi) & (df_outliers['number_of_rooms'] > q_low)]\n",
    "# box plot.\n",
    "df_filtered.boxplot(column=['number_of_rooms'])"
   ]
  },
  {
   "cell_type": "markdown",
   "metadata": {},
   "source": [
    "### Area"
   ]
  },
  {
   "cell_type": "code",
   "execution_count": 146,
   "metadata": {},
   "outputs": [
    {
     "data": {
      "text/plain": [
       "<AxesSubplot:>"
      ]
     },
     "execution_count": 146,
     "metadata": {},
     "output_type": "execute_result"
    },
    {
     "data": {
      "image/png": "[encoded data removed]",
      "text/plain": [
       "<Figure size 864x576 with 1 Axes>"
      ]
     },
     "metadata": {},
     "output_type": "display_data"
    }
   ],
   "source": [
    "# to remove lower and upper outliers of 'Number of rooms'\n",
    "q_low = df_outliers['area'].quantile(0.01)\n",
    "q_hi  = df_outliers['area'].quantile(0.99)\n",
    "\n",
    "df_filtered = df_outliers[(df_outliers['area'] < q_hi) & (df_outliers['area'] > q_low)]\n",
    "\n",
    "# box plot.\n",
    "df_filtered.boxplot(column=['area'])"
   ]
  },
  {
   "cell_type": "markdown",
   "metadata": {},
   "source": [
    "### Terrace Area"
   ]
  },
  {
   "cell_type": "code",
   "execution_count": 147,
   "metadata": {},
   "outputs": [
    {
     "data": {
      "text/plain": [
       "<AxesSubplot:>"
      ]
     },
     "execution_count": 147,
     "metadata": {},
     "output_type": "execute_result"
    },
    {
     "data": {
      "image/png": "[encoded data removed]",
      "text/plain": [
       "<Figure size 864x576 with 1 Axes>"
      ]
     },
     "metadata": {},
     "output_type": "display_data"
    }
   ],
   "source": [
    "def filter_terrace_area():\n",
    "    \n",
    "    filtered = df_outliers.drop(df_outliers[df_outliers['terrace_area'] >6000].index)\n",
    "\n",
    "    return filtered.boxplot(column=['terrace_area'])\n",
    "\n",
    "filter_terrace_area()"
   ]
  },
  {
   "cell_type": "markdown",
   "metadata": {},
   "source": [
    "### Garden Area"
   ]
  },
  {
   "cell_type": "code",
   "execution_count": 148,
   "metadata": {},
   "outputs": [
    {
     "data": {
      "text/plain": [
       "<AxesSubplot:>"
      ]
     },
     "execution_count": 148,
     "metadata": {},
     "output_type": "execute_result"
    },
    {
     "data": {
      "image/png": "[encoded data removed]",
      "text/plain": [
       "<Figure size 864x576 with 1 Axes>"
      ]
     },
     "metadata": {},
     "output_type": "display_data"
    }
   ],
   "source": [
    "# to remove lower and upper outliers of 'Number of rooms'\n",
    "q_low = df_outliers['garden_area'].quantile(0.01)\n",
    "q_hi  = df_outliers['garden_area'].quantile(0.99)\n",
    "\n",
    "df_filtered = df_outliers[(df_outliers['garden_area'] < q_hi) & (df_outliers['garden_area'] > q_low)]\n",
    "\n",
    "# box plot.\n",
    "df_filtered.boxplot(column=['garden_area'])"
   ]
  },
  {
   "cell_type": "markdown",
   "metadata": {},
   "source": [
    "### Surface of the land"
   ]
  },
  {
   "cell_type": "code",
   "execution_count": 149,
   "metadata": {},
   "outputs": [
    {
     "data": {
      "text/plain": [
       "<AxesSubplot:>"
      ]
     },
     "execution_count": 149,
     "metadata": {},
     "output_type": "execute_result"
    },
    {
     "data": {
      "image/png": "[encoded data removed]",
      "text/plain": [
       "<Figure size 864x576 with 1 Axes>"
      ]
     },
     "metadata": {},
     "output_type": "display_data"
    }
   ],
   "source": [
    "# to remove lower and upper outliers of 'Number of rooms'\n",
    "q_low = df_outliers['surface_of_the_land'].quantile(0.01)\n",
    "q_hi  = df_outliers['surface_of_the_land'].quantile(0.99)\n",
    "\n",
    "df_filtered = df_outliers[(df_outliers['surface_of_the_land'] < q_hi) & (df_outliers['surface_of_the_land'] > q_low)]\n",
    "\n",
    "# box plot.\n",
    "df_filtered.boxplot(column=['surface_of_the_land'])"
   ]
  },
  {
   "cell_type": "markdown",
   "metadata": {},
   "source": [
    "### Number of facades"
   ]
  },
  {
   "cell_type": "code",
   "execution_count": 150,
   "metadata": {},
   "outputs": [
    {
     "data": {
      "text/plain": [
       "<AxesSubplot:>"
      ]
     },
     "execution_count": 150,
     "metadata": {},
     "output_type": "execute_result"
    },
    {
     "data": {
      "image/png": "[encoded data removed]",
      "text/plain": [
       "<Figure size 864x576 with 1 Axes>"
      ]
     },
     "metadata": {},
     "output_type": "display_data"
    }
   ],
   "source": [
    "def filterfacade():\n",
    "    \n",
    "    filtered = df_outliers.drop(df_outliers[df_outliers['number_of_facades'] > 4].index)\n",
    "    \n",
    "\n",
    "    return filtered.boxplot(column=['number_of_facades'])\n",
    "\n",
    "filterfacade()"
   ]
  },
  {
   "cell_type": "code",
   "execution_count": null,
   "metadata": {},
   "outputs": [],
   "source": []
  }
 ],
 "metadata": {
  "kernelspec": {
   "display_name": "Python 3",
   "language": "python",
   "name": "python3"
  },
  "language_info": {
   "codemirror_mode": {
    "name": "ipython",
    "version": 3
   },
   "file_extension": ".py",
   "mimetype": "text/x-python",
   "name": "python",
   "nbconvert_exporter": "python",
   "pygments_lexer": "ipython3",
   "version": "3.8.5"
  }
 },
 "nbformat": 4,
 "nbformat_minor": 4
}
